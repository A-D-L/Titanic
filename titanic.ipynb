{
 "cells": [
  {
   "cell_type": "code",
   "execution_count": 89,
   "metadata": {
    "collapsed": true
   },
   "outputs": [],
   "source": [
    "import stat\n",
    "import numpy as np\n",
    "import pandas as pd\n",
    "import seaborn as sns\n",
    "from matplotlib import pyplot as plt\n",
    "\n",
    "from scipy import stats\n",
    "\n",
    "from sklearn.experimental import enable_iterative_imputer\n",
    "\n",
    "from sklearn.impute import IterativeImputer\n",
    "from sklearn.preprocessing import StandardScaler\n",
    "from sklearn.linear_model import BayesianRidge\n",
    "from sklearn.svm import SVC\n",
    "from sklearn.ensemble import GradientBoostingClassifier, RandomForestClassifier\n",
    "from sklearn.linear_model import LogisticRegression\n",
    "from sklearn.model_selection import RandomizedSearchCV\n",
    "\n",
    "import statsmodels.api as sm\n",
    "from statsmodels.formula.api import ols\n",
    "\n",
    "pd.set_option(\"display.max_rows\", None, \"display.max_columns\", None)\n",
    "RANDOM_STATE = 42\n"
   ]
  },
  {
   "cell_type": "markdown",
   "source": [
    "Load data"
   ],
   "metadata": {
    "collapsed": false
   }
  },
  {
   "cell_type": "code",
   "execution_count": 30,
   "outputs": [],
   "source": [
    "train = pd.read_csv(\"./data/train.csv\")\n",
    "test = pd.read_csv(\"./data/test.csv\")"
   ],
   "metadata": {
    "collapsed": false,
    "pycharm": {
     "name": "#%%\n"
    }
   }
  },
  {
   "cell_type": "markdown",
   "source": [
    "### Visualise dataset"
   ],
   "metadata": {
    "collapsed": false,
    "pycharm": {
     "name": "#%% md\n"
    }
   }
  },
  {
   "cell_type": "code",
   "execution_count": 31,
   "outputs": [
    {
     "data": {
      "text/plain": "   PassengerId  Survived  Pclass  \\\n0            1         0       3   \n1            2         1       1   \n2            3         1       3   \n3            4         1       1   \n4            5         0       3   \n\n                                                Name     Sex   Age  SibSp  \\\n0                            Braund, Mr. Owen Harris    male  22.0      1   \n1  Cumings, Mrs. John Bradley (Florence Briggs Th...  female  38.0      1   \n2                             Heikkinen, Miss. Laina  female  26.0      0   \n3       Futrelle, Mrs. Jacques Heath (Lily May Peel)  female  35.0      1   \n4                           Allen, Mr. William Henry    male  35.0      0   \n\n   Parch            Ticket     Fare Cabin Embarked  \n0      0         A/5 21171   7.2500   NaN        S  \n1      0          PC 17599  71.2833   C85        C  \n2      0  STON/O2. 3101282   7.9250   NaN        S  \n3      0            113803  53.1000  C123        S  \n4      0            373450   8.0500   NaN        S  ",
      "text/html": "<div>\n<style scoped>\n    .dataframe tbody tr th:only-of-type {\n        vertical-align: middle;\n    }\n\n    .dataframe tbody tr th {\n        vertical-align: top;\n    }\n\n    .dataframe thead th {\n        text-align: right;\n    }\n</style>\n<table border=\"1\" class=\"dataframe\">\n  <thead>\n    <tr style=\"text-align: right;\">\n      <th></th>\n      <th>PassengerId</th>\n      <th>Survived</th>\n      <th>Pclass</th>\n      <th>Name</th>\n      <th>Sex</th>\n      <th>Age</th>\n      <th>SibSp</th>\n      <th>Parch</th>\n      <th>Ticket</th>\n      <th>Fare</th>\n      <th>Cabin</th>\n      <th>Embarked</th>\n    </tr>\n  </thead>\n  <tbody>\n    <tr>\n      <th>0</th>\n      <td>1</td>\n      <td>0</td>\n      <td>3</td>\n      <td>Braund, Mr. Owen Harris</td>\n      <td>male</td>\n      <td>22.0</td>\n      <td>1</td>\n      <td>0</td>\n      <td>A/5 21171</td>\n      <td>7.2500</td>\n      <td>NaN</td>\n      <td>S</td>\n    </tr>\n    <tr>\n      <th>1</th>\n      <td>2</td>\n      <td>1</td>\n      <td>1</td>\n      <td>Cumings, Mrs. John Bradley (Florence Briggs Th...</td>\n      <td>female</td>\n      <td>38.0</td>\n      <td>1</td>\n      <td>0</td>\n      <td>PC 17599</td>\n      <td>71.2833</td>\n      <td>C85</td>\n      <td>C</td>\n    </tr>\n    <tr>\n      <th>2</th>\n      <td>3</td>\n      <td>1</td>\n      <td>3</td>\n      <td>Heikkinen, Miss. Laina</td>\n      <td>female</td>\n      <td>26.0</td>\n      <td>0</td>\n      <td>0</td>\n      <td>STON/O2. 3101282</td>\n      <td>7.9250</td>\n      <td>NaN</td>\n      <td>S</td>\n    </tr>\n    <tr>\n      <th>3</th>\n      <td>4</td>\n      <td>1</td>\n      <td>1</td>\n      <td>Futrelle, Mrs. Jacques Heath (Lily May Peel)</td>\n      <td>female</td>\n      <td>35.0</td>\n      <td>1</td>\n      <td>0</td>\n      <td>113803</td>\n      <td>53.1000</td>\n      <td>C123</td>\n      <td>S</td>\n    </tr>\n    <tr>\n      <th>4</th>\n      <td>5</td>\n      <td>0</td>\n      <td>3</td>\n      <td>Allen, Mr. William Henry</td>\n      <td>male</td>\n      <td>35.0</td>\n      <td>0</td>\n      <td>0</td>\n      <td>373450</td>\n      <td>8.0500</td>\n      <td>NaN</td>\n      <td>S</td>\n    </tr>\n  </tbody>\n</table>\n</div>"
     },
     "execution_count": 31,
     "metadata": {},
     "output_type": "execute_result"
    }
   ],
   "source": [
    "train.head(5)"
   ],
   "metadata": {
    "collapsed": false,
    "pycharm": {
     "name": "#%%\n"
    }
   }
  },
  {
   "cell_type": "code",
   "execution_count": 32,
   "outputs": [
    {
     "data": {
      "text/plain": "   PassengerId  Pclass                                          Name     Sex  \\\n0          892       3                              Kelly, Mr. James    male   \n1          893       3              Wilkes, Mrs. James (Ellen Needs)  female   \n2          894       2                     Myles, Mr. Thomas Francis    male   \n3          895       3                              Wirz, Mr. Albert    male   \n4          896       3  Hirvonen, Mrs. Alexander (Helga E Lindqvist)  female   \n\n    Age  SibSp  Parch   Ticket     Fare Cabin Embarked  \n0  34.5      0      0   330911   7.8292   NaN        Q  \n1  47.0      1      0   363272   7.0000   NaN        S  \n2  62.0      0      0   240276   9.6875   NaN        Q  \n3  27.0      0      0   315154   8.6625   NaN        S  \n4  22.0      1      1  3101298  12.2875   NaN        S  ",
      "text/html": "<div>\n<style scoped>\n    .dataframe tbody tr th:only-of-type {\n        vertical-align: middle;\n    }\n\n    .dataframe tbody tr th {\n        vertical-align: top;\n    }\n\n    .dataframe thead th {\n        text-align: right;\n    }\n</style>\n<table border=\"1\" class=\"dataframe\">\n  <thead>\n    <tr style=\"text-align: right;\">\n      <th></th>\n      <th>PassengerId</th>\n      <th>Pclass</th>\n      <th>Name</th>\n      <th>Sex</th>\n      <th>Age</th>\n      <th>SibSp</th>\n      <th>Parch</th>\n      <th>Ticket</th>\n      <th>Fare</th>\n      <th>Cabin</th>\n      <th>Embarked</th>\n    </tr>\n  </thead>\n  <tbody>\n    <tr>\n      <th>0</th>\n      <td>892</td>\n      <td>3</td>\n      <td>Kelly, Mr. James</td>\n      <td>male</td>\n      <td>34.5</td>\n      <td>0</td>\n      <td>0</td>\n      <td>330911</td>\n      <td>7.8292</td>\n      <td>NaN</td>\n      <td>Q</td>\n    </tr>\n    <tr>\n      <th>1</th>\n      <td>893</td>\n      <td>3</td>\n      <td>Wilkes, Mrs. James (Ellen Needs)</td>\n      <td>female</td>\n      <td>47.0</td>\n      <td>1</td>\n      <td>0</td>\n      <td>363272</td>\n      <td>7.0000</td>\n      <td>NaN</td>\n      <td>S</td>\n    </tr>\n    <tr>\n      <th>2</th>\n      <td>894</td>\n      <td>2</td>\n      <td>Myles, Mr. Thomas Francis</td>\n      <td>male</td>\n      <td>62.0</td>\n      <td>0</td>\n      <td>0</td>\n      <td>240276</td>\n      <td>9.6875</td>\n      <td>NaN</td>\n      <td>Q</td>\n    </tr>\n    <tr>\n      <th>3</th>\n      <td>895</td>\n      <td>3</td>\n      <td>Wirz, Mr. Albert</td>\n      <td>male</td>\n      <td>27.0</td>\n      <td>0</td>\n      <td>0</td>\n      <td>315154</td>\n      <td>8.6625</td>\n      <td>NaN</td>\n      <td>S</td>\n    </tr>\n    <tr>\n      <th>4</th>\n      <td>896</td>\n      <td>3</td>\n      <td>Hirvonen, Mrs. Alexander (Helga E Lindqvist)</td>\n      <td>female</td>\n      <td>22.0</td>\n      <td>1</td>\n      <td>1</td>\n      <td>3101298</td>\n      <td>12.2875</td>\n      <td>NaN</td>\n      <td>S</td>\n    </tr>\n  </tbody>\n</table>\n</div>"
     },
     "execution_count": 32,
     "metadata": {},
     "output_type": "execute_result"
    }
   ],
   "source": [
    "test.head(5)"
   ],
   "metadata": {
    "collapsed": false,
    "pycharm": {
     "name": "#%%\n"
    }
   }
  },
  {
   "cell_type": "markdown",
   "source": [
    "## Descriptives statistics"
   ],
   "metadata": {
    "collapsed": false
   }
  },
  {
   "cell_type": "markdown",
   "source": [
    "#### Find proportion of nan in columns"
   ],
   "metadata": {
    "collapsed": false
   }
  },
  {
   "cell_type": "code",
   "execution_count": 33,
   "outputs": [
    {
     "name": "stdout",
     "output_type": "stream",
     "text": [
      "Train\n",
      "PassengerId     0.000000\n",
      "Survived        0.000000\n",
      "Pclass          0.000000\n",
      "Name            0.000000\n",
      "Sex             0.000000\n",
      "Age            19.865320\n",
      "SibSp           0.000000\n",
      "Parch           0.000000\n",
      "Ticket          0.000000\n",
      "Fare            0.000000\n",
      "Cabin          77.104377\n",
      "Embarked        0.224467\n",
      "dtype: float64\n",
      "\n",
      "Test\n",
      "PassengerId     0.000000\n",
      "Pclass          0.000000\n",
      "Name            0.000000\n",
      "Sex             0.000000\n",
      "Age            20.574163\n",
      "SibSp           0.000000\n",
      "Parch           0.000000\n",
      "Ticket          0.000000\n",
      "Fare            0.239234\n",
      "Cabin          78.229665\n",
      "Embarked        0.000000\n",
      "dtype: float64\n"
     ]
    }
   ],
   "source": [
    "print(\"Train\")\n",
    "print(np.sum(train.isna(), axis=0) / train.shape[0] * 100)\n",
    "\n",
    "print(\"\\nTest\")\n",
    "print(np.sum(test.isna(), axis=0) / test.shape[0] * 100)"
   ],
   "metadata": {
    "collapsed": false,
    "pycharm": {
     "name": "#%%\n"
    }
   }
  },
  {
   "cell_type": "markdown",
   "source": [
    "- **Age** : Imputation from other variable or create a categorical variable.\n",
    "- **Cabin** : Too much missing data, will probably remove this variable or create a categorical variable with to level\n",
    "(present / absent).\n",
    "- **Fare** : Will probably try to impute a value to the missing data in the test set (from a model or the mean in the\n",
    "training data)"
   ],
   "metadata": {
    "collapsed": false,
    "pycharm": {
     "name": "#%% md\n"
    }
   }
  },
  {
   "cell_type": "markdown",
   "source": [
    "#### Set type of some columns to **str**"
   ],
   "metadata": {
    "collapsed": false
   }
  },
  {
   "cell_type": "code",
   "execution_count": 34,
   "outputs": [
    {
     "data": {
      "text/plain": "PassengerId      int64\nSurvived         int64\nPclass           int64\nName            object\nSex             object\nAge            float64\nSibSp            int64\nParch            int64\nTicket          object\nFare           float64\nCabin           object\nEmbarked        object\ndtype: object"
     },
     "execution_count": 34,
     "metadata": {},
     "output_type": "execute_result"
    }
   ],
   "source": [
    "for column in [\"Name\", \"Sex\", \"Ticket\", \"Cabin\", \"Embarked\"]:\n",
    "    test[column] = test[column].astype(str)\n",
    "    train[column] = train[column].astype(str)\n",
    "\n",
    "train.dtypes"
   ],
   "metadata": {
    "collapsed": false,
    "pycharm": {
     "name": "#%%\n"
    }
   }
  },
  {
   "cell_type": "markdown",
   "source": [
    "#### Find number of unique values in each columns\n",
    "- Train :"
   ],
   "metadata": {
    "collapsed": false,
    "pycharm": {
     "name": "#%% md\n"
    }
   }
  },
  {
   "cell_type": "code",
   "execution_count": 35,
   "outputs": [
    {
     "name": "stdout",
     "output_type": "stream",
     "text": [
      "PassengerId : 891 ([1, 2, 3, 4, 5, 6, 7, 8, 9, 10, 11, 12, 13, 14, 15, 16, 17, 18, 19, 20, 21, 22, 23, 24, 25, 26, 27, 28, 29, 30, 31, 32, 33, 34, 35, 36, 37, 38, 39, 40, 41, 42, 43, 44, 45, 46, 47, 48, 49, 50, 51, 52, 53, 54, 55, 56, 57, 58, 59, 60, 61, 62, 63, 64, 65, 66, 67, 68, 69, 70, 71, 72, 73, 74, 75, 76, 77, 78, 79, 80, 81, 82, 83, 84, 85, 86, 87, 88, 89, 90, 91, 92, 93, 94, 95, 96, 97, 98, 99, 100, 101, 102, 103, 104, 105, 106, 107, 108, 109, 110, 111, 112, 113, 114, 115, 116, 117, 118, 119, 120, 121, 122, 123, 124, 125, 126, 127, 128, 129, 130, 131, 132, 133, 134, 135, 136, 137, 138, 139, 140, 141, 142, 143, 144, 145, 146, 147, 148, 149, 150, 151, 152, 153, 154, 155, 156, 157, 158, 159, 160, 161, 162, 163, 164, 165, 166, 167, 168, 169, 170, 171, 172, 173, 174, 175, 176, 177, 178, 179, 180, 181, 182, 183, 184, 185, 186, 187, 188, 189, 190, 191, 192, 193, 194, 195, 196, 197, 198, 199, 200, 201, 202, 203, 204, 205, 206, 207, 208, 209, 210, 211, 212, 213, 214, 215, 216, 217, 218, 219, 220, 221, 222, 223, 224, 225, 226, 227, 228, 229, 230, 231, 232, 233, 234, 235, 236, 237, 238, 239, 240, 241, 242, 243, 244, 245, 246, 247, 248, 249, 250, 251, 252, 253, 254, 255, 256, 257, 258, 259, 260, 261, 262, 263, 264, 265, 266, 267, 268, 269, 270, 271, 272, 273, 274, 275, 276, 277, 278, 279, 280, 281, 282, 283, 284, 285, 286, 287, 288, 289, 290, 291, 292, 293, 294, 295, 296, 297, 298, 299, 300, 301, 302, 303, 304, 305, 306, 307, 308, 309, 310, 311, 312, 313, 314, 315, 316, 317, 318, 319, 320, 321, 322, 323, 324, 325, 326, 327, 328, 329, 330, 331, 332, 333, 334, 335, 336, 337, 338, 339, 340, 341, 342, 343, 344, 345, 346, 347, 348, 349, 350, 351, 352, 353, 354, 355, 356, 357, 358, 359, 360, 361, 362, 363, 364, 365, 366, 367, 368, 369, 370, 371, 372, 373, 374, 375, 376, 377, 378, 379, 380, 381, 382, 383, 384, 385, 386, 387, 388, 389, 390, 391, 392, 393, 394, 395, 396, 397, 398, 399, 400, 401, 402, 403, 404, 405, 406, 407, 408, 409, 410, 411, 412, 413, 414, 415, 416, 417, 418, 419, 420, 421, 422, 423, 424, 425, 426, 427, 428, 429, 430, 431, 432, 433, 434, 435, 436, 437, 438, 439, 440, 441, 442, 443, 444, 445, 446, 447, 448, 449, 450, 451, 452, 453, 454, 455, 456, 457, 458, 459, 460, 461, 462, 463, 464, 465, 466, 467, 468, 469, 470, 471, 472, 473, 474, 475, 476, 477, 478, 479, 480, 481, 482, 483, 484, 485, 486, 487, 488, 489, 490, 491, 492, 493, 494, 495, 496, 497, 498, 499, 500, 501, 502, 503, 504, 505, 506, 507, 508, 509, 510, 511, 512, 513, 514, 515, 516, 517, 518, 519, 520, 521, 522, 523, 524, 525, 526, 527, 528, 529, 530, 531, 532, 533, 534, 535, 536, 537, 538, 539, 540, 541, 542, 543, 544, 545, 546, 547, 548, 549, 550, 551, 552, 553, 554, 555, 556, 557, 558, 559, 560, 561, 562, 563, 564, 565, 566, 567, 568, 569, 570, 571, 572, 573, 574, 575, 576, 577, 578, 579, 580, 581, 582, 583, 584, 585, 586, 587, 588, 589, 590, 591, 592, 593, 594, 595, 596, 597, 598, 599, 600, 601, 602, 603, 604, 605, 606, 607, 608, 609, 610, 611, 612, 613, 614, 615, 616, 617, 618, 619, 620, 621, 622, 623, 624, 625, 626, 627, 628, 629, 630, 631, 632, 633, 634, 635, 636, 637, 638, 639, 640, 641, 642, 643, 644, 645, 646, 647, 648, 649, 650, 651, 652, 653, 654, 655, 656, 657, 658, 659, 660, 661, 662, 663, 664, 665, 666, 667, 668, 669, 670, 671, 672, 673, 674, 675, 676, 677, 678, 679, 680, 681, 682, 683, 684, 685, 686, 687, 688, 689, 690, 691, 692, 693, 694, 695, 696, 697, 698, 699, 700, 701, 702, 703, 704, 705, 706, 707, 708, 709, 710, 711, 712, 713, 714, 715, 716, 717, 718, 719, 720, 721, 722, 723, 724, 725, 726, 727, 728, 729, 730, 731, 732, 733, 734, 735, 736, 737, 738, 739, 740, 741, 742, 743, 744, 745, 746, 747, 748, 749, 750, 751, 752, 753, 754, 755, 756, 757, 758, 759, 760, 761, 762, 763, 764, 765, 766, 767, 768, 769, 770, 771, 772, 773, 774, 775, 776, 777, 778, 779, 780, 781, 782, 783, 784, 785, 786, 787, 788, 789, 790, 791, 792, 793, 794, 795, 796, 797, 798, 799, 800, 801, 802, 803, 804, 805, 806, 807, 808, 809, 810, 811, 812, 813, 814, 815, 816, 817, 818, 819, 820, 821, 822, 823, 824, 825, 826, 827, 828, 829, 830, 831, 832, 833, 834, 835, 836, 837, 838, 839, 840, 841, 842, 843, 844, 845, 846, 847, 848, 849, 850, 851, 852, 853, 854, 855, 856, 857, 858, 859, 860, 861, 862, 863, 864, 865, 866, 867, 868, 869, 870, 871, 872, 873, 874, 875, 876, 877, 878, 879, 880, 881, 882, 883, 884, 885, 886, 887, 888, 889, 890, 891])\n",
      "Survived : 2 ([0, 1])\n",
      "Pclass : 3 ([1, 2, 3])\n",
      "Name : 891 (['Abbing, Mr. Anthony', 'Abbott, Mr. Rossmore Edward', 'Abbott, Mrs. Stanton (Rosa Hunt)', 'Abelson, Mr. Samuel', 'Abelson, Mrs. Samuel (Hannah Wizosky)', 'Adahl, Mr. Mauritz Nils Martin', 'Adams, Mr. John', 'Ahlin, Mrs. Johan (Johanna Persdotter Larsson)', 'Aks, Mrs. Sam (Leah Rosen)', 'Albimona, Mr. Nassef Cassem', 'Alexander, Mr. William', 'Alhomaki, Mr. Ilmari Rudolf', 'Ali, Mr. Ahmed', 'Ali, Mr. William', 'Allen, Miss. Elisabeth Walton', 'Allen, Mr. William Henry', 'Allison, Master. Hudson Trevor', 'Allison, Miss. Helen Loraine', 'Allison, Mrs. Hudson J C (Bessie Waldo Daniels)', 'Allum, Mr. Owen George', 'Andersen-Jensen, Miss. Carla Christine Nielsine', 'Anderson, Mr. Harry', 'Andersson, Master. Sigvard Harald Elias', 'Andersson, Miss. Ebba Iris Alfrida', 'Andersson, Miss. Ellis Anna Maria', 'Andersson, Miss. Erna Alexandra', 'Andersson, Miss. Ingeborg Constanzia', 'Andersson, Miss. Sigrid Elisabeth', 'Andersson, Mr. Anders Johan', 'Andersson, Mr. August Edvard (\"Wennerstrom\")', 'Andersson, Mrs. Anders Johan (Alfrida Konstantia Brogren)', 'Andreasson, Mr. Paul Edvin', 'Andrew, Mr. Edgardo Samuel', 'Andrews, Miss. Kornelia Theodosia', 'Andrews, Mr. Thomas Jr', 'Angle, Mrs. William A (Florence \"Mary\" Agnes Hughes)', 'Appleton, Mrs. Edward Dale (Charlotte Lamson)', 'Arnold-Franchi, Mr. Josef', 'Arnold-Franchi, Mrs. Josef (Josefine Franchi)', 'Artagaveytia, Mr. Ramon', 'Asim, Mr. Adola', 'Asplund, Master. Clarence Gustaf Hugo', 'Asplund, Master. Edvin Rojj Felix', 'Asplund, Miss. Lillian Gertrud', 'Asplund, Mrs. Carl Oscar (Selma Augusta Emilia Johansson)', 'Astor, Mrs. John Jacob (Madeleine Talmadge Force)', 'Attalah, Miss. Malake', 'Attalah, Mr. Sleiman', 'Aubart, Mme. Leontine Pauline', 'Augustsson, Mr. Albert', 'Ayoub, Miss. Banoura', 'Backstrom, Mr. Karl Alfred', 'Backstrom, Mrs. Karl Alfred (Maria Mathilda Gustafsson)', 'Baclini, Miss. Eugenie', 'Baclini, Miss. Helene Barbara', 'Baclini, Miss. Marie Catherine', 'Baclini, Mrs. Solomon (Latifa Qurban)', 'Badt, Mr. Mohamed', 'Bailey, Mr. Percy Andrew', 'Balkic, Mr. Cerin', 'Ball, Mrs. (Ada E Hall)', 'Banfield, Mr. Frederick James', 'Barah, Mr. Hanna Assi', 'Barbara, Miss. Saiide', 'Barbara, Mrs. (Catherine David)', 'Barber, Miss. Ellen \"Nellie\"', 'Barkworth, Mr. Algernon Henry Wilson', 'Barton, Mr. David John', 'Bateman, Rev. Robert James', 'Baumann, Mr. John D', 'Baxter, Mr. Quigg Edmond', 'Baxter, Mrs. James (Helene DeLaudeniere Chaput)', 'Bazzani, Miss. Albina', 'Beane, Mr. Edward', 'Beane, Mrs. Edward (Ethel Clarke)', 'Beavan, Mr. William Thomas', 'Becker, Master. Richard F', 'Becker, Miss. Marion Louise', 'Beckwith, Mr. Richard Leonard', 'Beckwith, Mrs. Richard Leonard (Sallie Monypeny)', 'Beesley, Mr. Lawrence', 'Behr, Mr. Karl Howell', 'Bengtsson, Mr. John Viktor', 'Berglund, Mr. Karl Ivar Sven', 'Berriman, Mr. William John', 'Betros, Mr. Tannous', 'Bidois, Miss. Rosalie', 'Bing, Mr. Lee', 'Birkeland, Mr. Hans Martin Monsen', 'Bishop, Mr. Dickinson H', 'Bishop, Mrs. Dickinson H (Helen Walton)', 'Bissette, Miss. Amelia', 'Bjornstrom-Steffansson, Mr. Mauritz Hakan', 'Blackwell, Mr. Stephen Weart', 'Blank, Mr. Henry', 'Bonnell, Miss. Elizabeth', 'Bostandyeff, Mr. Guentcho', 'Boulos, Miss. Nourelain', 'Boulos, Mr. Hanna', 'Boulos, Mrs. Joseph (Sultana)', 'Bourke, Miss. Mary', 'Bourke, Mr. John', 'Bourke, Mrs. John (Catherine)', 'Bowen, Mr. David John \"Dai\"', 'Bowerman, Miss. Elsie Edith', 'Bracken, Mr. James H', 'Bradley, Mr. George (\"George Arthur Brayton\")', 'Braund, Mr. Lewis Richard', 'Braund, Mr. Owen Harris', 'Brewe, Dr. Arthur Jackson', 'Brocklebank, Mr. William Alfred', 'Brown, Miss. Amelia \"Mildred\"', 'Brown, Mr. Thomas William Solomon', 'Brown, Mrs. James Joseph (Margaret Tobin)', 'Brown, Mrs. Thomas William Solomon (Elizabeth Catherine Ford)', 'Bryhl, Mr. Kurt Arnold Gottfrid', 'Burke, Mr. Jeremiah', 'Burns, Miss. Elizabeth Margaret', 'Buss, Miss. Kate', 'Butler, Mr. Reginald Fenton', 'Butt, Major. Archibald Willingham', 'Byles, Rev. Thomas Roussel Davids', 'Bystrom, Mrs. (Karolina)', 'Cacic, Miss. Marija', 'Cacic, Mr. Luka', 'Cairns, Mr. Alexander', 'Calderhead, Mr. Edward Pennington', 'Caldwell, Master. Alden Gates', 'Caldwell, Mrs. Albert Francis (Sylvia Mae Harbaugh)', 'Calic, Mr. Jovo', 'Calic, Mr. Petar', 'Cameron, Miss. Clear Annie', 'Campbell, Mr. William', 'Canavan, Miss. Mary', 'Cann, Mr. Ernest Charles', 'Caram, Mrs. Joseph (Maria Elias)', 'Carbines, Mr. William', 'Cardeza, Mr. Thomas Drake Martinez', 'Carlsson, Mr. August Sigfrid', 'Carlsson, Mr. Frans Olof', 'Carr, Miss. Helen \"Ellen\"', 'Carrau, Mr. Francisco M', 'Carter, Master. William Thornton II', 'Carter, Miss. Lucile Polk', 'Carter, Mr. William Ernest', 'Carter, Mrs. Ernest Courtenay (Lilian Hughes)', 'Carter, Mrs. William Ernest (Lucile Polk)', 'Carter, Rev. Ernest Courtenay', 'Cavendish, Mr. Tyrell William', 'Celotti, Mr. Francesco', 'Chaffee, Mr. Herbert Fuller', 'Chambers, Mr. Norman Campbell', 'Chambers, Mrs. Norman Campbell (Bertha Griggs)', 'Chapman, Mr. Charles Henry', 'Chapman, Mr. John Henry', 'Charters, Mr. David', 'Cherry, Miss. Gladys', 'Chibnall, Mrs. (Edith Martha Bowerman)', 'Chip, Mr. Chang', 'Christmann, Mr. Emil', 'Christy, Miss. Julie Rachel', 'Chronopoulos, Mr. Apostolos', 'Clarke, Mrs. Charles V (Ada Maria Winfield)', 'Cleaver, Miss. Alice', 'Clifford, Mr. George Quincy', 'Coelho, Mr. Domingos Fernandeo', 'Cohen, Mr. Gurshon \"Gus\"', 'Coleff, Mr. Peju', 'Coleff, Mr. Satio', 'Coleridge, Mr. Reginald Charles', 'Collander, Mr. Erik Gustaf', 'Colley, Mr. Edward Pomeroy', 'Collyer, Miss. Marjorie \"Lottie\"', 'Collyer, Mr. Harvey', 'Collyer, Mrs. Harvey (Charlotte Annie Tate)', 'Compton, Miss. Sara Rebecca', 'Connaghton, Mr. Michael', 'Connolly, Miss. Kate', 'Connors, Mr. Patrick', 'Cook, Mr. Jacob', 'Cor, Mr. Liudevit', 'Corn, Mr. Harry', 'Coutts, Master. Eden Leslie \"Neville\"', 'Coutts, Master. William Loch \"William\"', 'Coxon, Mr. Daniel', 'Crease, Mr. Ernest James', 'Cribb, Mr. John Hatfield', 'Crosby, Capt. Edward Gifford', 'Crosby, Miss. Harriet R', 'Culumovic, Mr. Jeso', 'Cumings, Mrs. John Bradley (Florence Briggs Thayer)', 'Cunningham, Mr. Alfred Fleming', 'Dahl, Mr. Karl Edwart', 'Dahlberg, Miss. Gerda Ulrika', 'Dakic, Mr. Branko', 'Daly, Mr. Eugene Patrick', 'Daly, Mr. Peter Denis ', 'Danbom, Mr. Ernst Gilbert', 'Danbom, Mrs. Ernst Gilbert (Anna Sigrid Maria Brogren)', 'Daniel, Mr. Robert Williams', 'Danoff, Mr. Yoto', 'Dantcheff, Mr. Ristiu', 'Davidson, Mr. Thornton', 'Davies, Master. John Morgan Jr', 'Davies, Mr. Alfred J', 'Davies, Mr. Charles Henry', 'Davis, Miss. Mary', 'Davison, Mrs. Thomas Henry (Mary E Finck)', 'Dean, Master. Bertram Vere', 'Dean, Mr. Bertram Frank', 'Denkoff, Mr. Mitto', 'Dennis, Mr. Samuel', 'Devaney, Miss. Margaret Delia', 'Dick, Mr. Albert Adrian', 'Dick, Mrs. Albert Adrian (Vera Gillespie)', 'Dimic, Mr. Jovan', 'Dodge, Master. Washington', 'Doharr, Mr. Tannous', 'Doling, Miss. Elsie', 'Doling, Mrs. John T (Ada Julia Bone)', 'Dooley, Mr. Patrick', 'Dorking, Mr. Edward Arthur', 'Douglas, Mr. Walter Donald', 'Dowdell, Miss. Elizabeth', 'Downton, Mr. William James', 'Drazenoic, Mr. Jozef', 'Drew, Mrs. James Vivian (Lulu Thorne Christian)', 'Duane, Mr. Frank', 'Duff Gordon, Lady. (Lucille Christiana Sutherland) (\"Mrs Morgan\")', 'Duff Gordon, Sir. Cosmo Edmund (\"Mr Morgan\")', 'Duran y More, Miss. Asuncion', 'Edvardsson, Mr. Gustaf Hjalmar', 'Eitemiller, Mr. George Floyd', 'Eklund, Mr. Hans Linus', 'Ekstrom, Mr. Johan', 'Elias, Mr. Dibo', 'Elias, Mr. Joseph Jr', 'Elias, Mr. Tannous', 'Elsbury, Mr. William James', 'Emanuel, Miss. Virginia Ethel', 'Emir, Mr. Farred Chehab', 'Endres, Miss. Caroline Louise', 'Eustis, Miss. Elizabeth Mussey', 'Fahlstrom, Mr. Arne Jonas', 'Farrell, Mr. James', 'Farthing, Mr. John', 'Faunthorpe, Mrs. Lizzie (Elizabeth Anne Wilkinson)', 'Fischer, Mr. Eberhard Thelander', 'Fleming, Miss. Margaret', 'Flynn, Mr. James', 'Flynn, Mr. John', 'Flynn, Mr. John Irwin (\"Irving\")', 'Foo, Mr. Choong', 'Ford, Miss. Doolina Margaret \"Daisy\"', 'Ford, Miss. Robina Maggie \"Ruby\"', 'Ford, Mr. William Neal', 'Ford, Mrs. Edward (Margaret Ann Watson)', 'Foreman, Mr. Benjamin Laventall', 'Fortune, Miss. Alice Elizabeth', 'Fortune, Miss. Mabel Helen', 'Fortune, Mr. Charles Alexander', 'Fortune, Mr. Mark', 'Fox, Mr. Stanley Hubert', 'Francatelli, Miss. Laura Mabel', 'Frauenthal, Dr. Henry William', 'Frauenthal, Mrs. Henry William (Clara Heinsheimer)', 'Frolicher, Miss. Hedwig Margaritha', 'Frolicher-Stehli, Mr. Maxmillian', 'Frost, Mr. Anthony Wood \"Archie\"', 'Fry, Mr. Richard', 'Funk, Miss. Annie Clemmer', 'Futrelle, Mr. Jacques Heath', 'Futrelle, Mrs. Jacques Heath (Lily May Peel)', 'Fynney, Mr. Joseph J', 'Gale, Mr. Shadrach', 'Gallagher, Mr. Martin', 'Garfirth, Mr. John', 'Garside, Miss. Ethel', 'Gaskell, Mr. Alfred', 'Gavey, Mr. Lawrence', 'Gee, Mr. Arthur H', 'Gheorgheff, Mr. Stanio', 'Giglio, Mr. Victor', 'Giles, Mr. Frederick Edward', 'Gilinski, Mr. Eliezer', 'Gill, Mr. John William', 'Gillespie, Mr. William Henry', 'Gilnagh, Miss. Katherine \"Katie\"', 'Givard, Mr. Hans Kristensen', 'Glynn, Miss. Mary Agatha', 'Goldenberg, Mr. Samuel L', 'Goldenberg, Mrs. Samuel L (Edwiga Grabowska)', 'Goldschmidt, Mr. George B', 'Goldsmith, Master. Frank John William \"Frankie\"', 'Goldsmith, Mr. Frank John', 'Goldsmith, Mrs. Frank John (Emily Alice Brown)', 'Goncalves, Mr. Manuel Estanslas', 'Goodwin, Master. Harold Victor', 'Goodwin, Master. Sidney Leonard', 'Goodwin, Master. William Frederick', 'Goodwin, Miss. Lillian Amy', 'Goodwin, Mr. Charles Edward', 'Goodwin, Mrs. Frederick (Augusta Tyler)', 'Graham, Miss. Margaret Edith', 'Graham, Mr. George Edward', 'Graham, Mrs. William Thompson (Edith Junkins)', 'Green, Mr. George Henry', 'Greenberg, Mr. Samuel', 'Greenfield, Mr. William Bertram', 'Gronnestad, Mr. Daniel Danielsen', 'Guggenheim, Mr. Benjamin', 'Gustafsson, Mr. Alfred Ossian', 'Gustafsson, Mr. Anders Vilhelm', 'Gustafsson, Mr. Johan Birger', 'Gustafsson, Mr. Karl Gideon', 'Haas, Miss. Aloisia', 'Hagland, Mr. Ingvald Olai Olsen', 'Hagland, Mr. Konrad Mathias Reiersen', 'Hakkarainen, Mr. Pekka Pietari', 'Hakkarainen, Mrs. Pekka Pietari (Elin Matilda Dolck)', 'Hale, Mr. Reginald', 'Hamalainen, Master. Viljo', 'Hamalainen, Mrs. William (Anna)', 'Hampe, Mr. Leon', 'Hanna, Mr. Mansour', 'Hansen, Mr. Claus Peter', 'Hansen, Mr. Henrik Juul', 'Hansen, Mr. Henry Damsgaard', 'Harder, Mr. George Achilles', 'Harknett, Miss. Alice Phoebe', 'Harmer, Mr. Abraham (David Lishin)', 'Harper, Miss. Annie Jessie \"Nina\"', 'Harper, Mr. Henry Sleeper', 'Harper, Mrs. Henry Sleeper (Myna Haxtun)', 'Harper, Rev. John', 'Harrington, Mr. Charles H', 'Harris, Mr. George', 'Harris, Mr. Henry Birkhardt', 'Harris, Mr. Walter', 'Harris, Mrs. Henry Birkhardt (Irene Wallach)', 'Harrison, Mr. William', 'Hart, Miss. Eva Miriam', 'Hart, Mr. Benjamin', 'Hart, Mr. Henry', 'Hart, Mrs. Benjamin (Esther Ada Bloomfield)', 'Hassab, Mr. Hammad', 'Hassan, Mr. Houssein G N', 'Hawksford, Mr. Walter James', 'Hays, Miss. Margaret Bechstein', 'Hays, Mrs. Charles Melville (Clara Jennings Gregg)', 'Healy, Miss. Hanora \"Nora\"', 'Hedman, Mr. Oskar Arvid', 'Hegarty, Miss. Hanora \"Nora\"', 'Heikkinen, Miss. Laina', 'Heininen, Miss. Wendla Maria', 'Hendekovic, Mr. Ignjac', 'Henry, Miss. Delia', 'Herman, Miss. Alice', 'Herman, Mrs. Samuel (Jane Laver)', 'Hewlett, Mrs. (Mary D Kingcome) ', 'Hickman, Mr. Leonard Mark', 'Hickman, Mr. Lewis', 'Hickman, Mr. Stanley George', 'Hippach, Miss. Jean Gertrude', 'Hippach, Mrs. Louis Albert (Ida Sophia Fischer)', 'Hirvonen, Miss. Hildur E', 'Hocking, Mr. Richard George', 'Hocking, Mrs. Elizabeth (Eliza Needs)', 'Hodges, Mr. Henry Price', 'Hogeboom, Mrs. John C (Anna Andrews)', 'Hold, Mr. Stephen', 'Holm, Mr. John Fredrik Alexander', 'Holverson, Mr. Alexander Oskar', 'Holverson, Mrs. Alexander Oskar (Mary Aline Towner)', 'Homer, Mr. Harry (\"Mr E Haven\")', 'Honkanen, Miss. Eliina', 'Hood, Mr. Ambrose Jr', 'Horgan, Mr. John', 'Hosono, Mr. Masabumi', 'Hoyt, Mr. Frederick Maxfield', 'Hoyt, Mr. William Fisher', 'Hoyt, Mrs. Frederick Maxfield (Jane Anne Forby)', 'Humblen, Mr. Adolf Mathias Nicolai Olsen', 'Hunt, Mr. George Henry', 'Ibrahim Shawah, Mr. Yousseff', 'Icard, Miss. Amelie', 'Ilett, Miss. Bertha', 'Ilmakangas, Miss. Pieta Sofia', 'Isham, Miss. Ann Elizabeth', 'Ivanoff, Mr. Kanio', 'Jacobsohn, Mr. Sidney Samuel', 'Jacobsohn, Mrs. Sidney Samuel (Amy Frances Christy)', 'Jalsevac, Mr. Ivan', 'Jansson, Mr. Carl Olof', 'Jardin, Mr. Jose Neto', 'Jarvis, Mr. John Denzil', 'Jenkin, Mr. Stephen Curnow', 'Jensen, Mr. Hans Peder', 'Jensen, Mr. Niels Peder', 'Jensen, Mr. Svend Lauritz', 'Jermyn, Miss. Annie', 'Jerwan, Mrs. Amin S (Marie Marthe Thuillard)', 'Johannesen-Bratthammer, Mr. Bernt', 'Johanson, Mr. Jakob Alfred', 'Johansson, Mr. Erik', 'Johansson, Mr. Gustaf Joel', 'Johansson, Mr. Karl Johan', 'Johnson, Master. Harold Theodor', 'Johnson, Miss. Eleanor Ileen', 'Johnson, Mr. Alfred', 'Johnson, Mr. Malkolm Joackim', 'Johnson, Mr. William Cahoone Jr', 'Johnson, Mrs. Oscar W (Elisabeth Vilhelmina Berg)', 'Johnston, Miss. Catherine Helen \"Carrie\"', 'Johnston, Mr. Andrew G', 'Jonkoff, Mr. Lalio', 'Jonsson, Mr. Carl', 'Jussila, Miss. Katriina', 'Jussila, Miss. Mari Aina', 'Jussila, Mr. Eiriik', 'Kallio, Mr. Nikolai Erland', 'Kalvik, Mr. Johannes Halvorsen', 'Kantor, Mr. Sinai', 'Kantor, Mrs. Sinai (Miriam Sternin)', 'Karaic, Mr. Milan', 'Karlsson, Mr. Nils August', 'Karun, Miss. Manca', 'Kassem, Mr. Fared', 'Keane, Miss. Nora A', 'Keane, Mr. Andrew \"Andy\"', 'Keefe, Mr. Arthur', 'Kelly, Miss. Anna Katherine \"Annie Kate\"', 'Kelly, Miss. Mary', 'Kelly, Mr. James', 'Kelly, Mrs. Florence \"Fannie\"', 'Kent, Mr. Edward Austin', 'Kenyon, Mrs. Frederick R (Marion)', 'Kiernan, Mr. Philip', 'Kilgannon, Mr. Thomas J', 'Kimball, Mr. Edwin Nelson Jr', 'Kink, Mr. Vincenz', 'Kink-Heilmann, Miss. Luise Gretchen', 'Kirkland, Rev. Charles Leonard', 'Klaber, Mr. Herman', 'Klasen, Mr. Klas Albin', 'Knight, Mr. Robert J', 'Kraeff, Mr. Theodor', 'Kvillner, Mr. Johan Henrik Johannesson', 'Lahoud, Mr. Sarkis', 'Lahtinen, Mrs. William (Anna Sylfven)', 'Laitinen, Miss. Kristina Sofia', 'Laleff, Mr. Kristo', 'Lam, Mr. Ali', 'Lam, Mr. Len', 'Landergren, Miss. Aurora Adelia', 'Lang, Mr. Fang', 'Laroche, Miss. Simonne Marie Anne Andree', 'Laroche, Mr. Joseph Philippe Lemercier', 'Laroche, Mrs. Joseph (Juliette Marie Louise Lafargue)', 'Larsson, Mr. August Viktor', 'Larsson, Mr. Bengt Edvin', 'LeRoy, Miss. Bertha', 'Leader, Dr. Alice (Farnham)', 'Leeni, Mr. Fahim (\"Philip Zenni\")', 'Lefebre, Master. Henry Forbes', 'Lefebre, Miss. Ida', 'Lefebre, Miss. Jeannie', 'Lefebre, Miss. Mathilde', 'Lehmann, Miss. Bertha', 'Leinonen, Mr. Antti Gustaf', 'Leitch, Miss. Jessie Wills', 'Lemberopolous, Mr. Peter L', 'Lemore, Mrs. (Amelia Milley)', 'Lennon, Mr. Denis', 'Leonard, Mr. Lionel', 'Lester, Mr. James', 'Lesurer, Mr. Gustave J', 'Levy, Mr. Rene Jacques', 'Lewy, Mr. Ervin G', 'Leyson, Mr. Robert William Norman', 'Lievens, Mr. Rene Aime', 'Lindahl, Miss. Agda Thorilda Viktoria', 'Lindblom, Miss. Augusta Charlotta', 'Lindell, Mr. Edvard Bengtsson', 'Lindqvist, Mr. Eino William', 'Lines, Miss. Mary Conover', 'Ling, Mr. Lee', 'Lobb, Mr. William Arthur', 'Lobb, Mrs. William Arthur (Cordelia K Stanlick)', 'Long, Mr. Milton Clyde', 'Longley, Miss. Gretchen Fiske', 'Louch, Mrs. Charles Alexander (Alice Adelaide Slow)', 'Lovell, Mr. John Hall (\"Henry\")', 'Lulic, Mr. Nikola', 'Lundahl, Mr. Johan Svensson', 'Lurette, Miss. Elise', 'Mack, Mrs. (Mary)', 'Madigan, Miss. Margaret \"Maggie\"', 'Madill, Miss. Georgette Alexandra', 'Madsen, Mr. Fridtjof Arne', 'Maenpaa, Mr. Matti Alexanteri', 'Maioni, Miss. Roberta', 'Maisner, Mr. Simon', 'Mallet, Master. Andre', 'Mallet, Mr. Albert', 'Mamee, Mr. Hanna', 'Mangan, Miss. Mary', 'Mannion, Miss. Margareth', 'Marechal, Mr. Pierre', 'Markoff, Mr. Marin', 'Markun, Mr. Johann', 'Marvin, Mr. Daniel Warner', 'Masselmani, Mrs. Fatima', 'Matthews, Mr. William John', 'Mayne, Mlle. Berthe Antonine (\"Mrs de Villiers\")', 'McCarthy, Mr. Timothy J', 'McCormack, Mr. Thomas Joseph', 'McCoy, Miss. Agnes', 'McCoy, Mr. Bernard', 'McDermott, Miss. Brigdet Delia', 'McEvoy, Mr. Michael', 'McGough, Mr. James Robert', 'McGovern, Miss. Mary', 'McGowan, Miss. Anna \"Annie\"', 'McKane, Mr. Peter David', 'McMahon, Mr. Martin', 'McNamee, Mr. Neal', 'Meanwell, Miss. (Marion Ogden)', 'Meek, Mrs. Thomas (Annie Louise Rowley)', 'Mellinger, Miss. Madeleine Violet', 'Mellinger, Mrs. (Elizabeth Anne Maidment)', 'Mellors, Mr. William John', 'Meo, Mr. Alfonzo', 'Mernagh, Mr. Robert', 'Meyer, Mr. August', 'Meyer, Mr. Edgar Joseph', 'Meyer, Mrs. Edgar Joseph (Leila Saks)', 'Millet, Mr. Francis Davis', 'Milling, Mr. Jacob Christian', 'Minahan, Dr. William Edward', 'Minahan, Miss. Daisy E', 'Mineff, Mr. Ivan', 'Mionoff, Mr. Stoytcho', 'Mitchell, Mr. Henry Michael', 'Mitkoff, Mr. Mito', 'Mockler, Miss. Helen Mary \"Ellie\"', 'Moen, Mr. Sigurd Hansen', 'Molson, Mr. Harry Markland', 'Montvila, Rev. Juozas', 'Moor, Master. Meier', 'Moor, Mrs. (Beila)', 'Moore, Mr. Leonard Charles', 'Moran, Miss. Bertha', 'Moran, Mr. Daniel J', 'Moran, Mr. James', 'Moraweck, Dr. Ernest', 'Morley, Mr. Henry Samuel (\"Mr Henry Marshall\")', 'Morley, Mr. William', 'Morrow, Mr. Thomas Rowan', 'Moss, Mr. Albert Johan', 'Moubarek, Master. Gerios', 'Moubarek, Master. Halim Gonios (\"William George\")', 'Moussa, Mrs. (Mantoura Boulos)', 'Moutal, Mr. Rahamin Haim', 'Mudd, Mr. Thomas Charles', 'Mullens, Miss. Katherine \"Katie\"', 'Murdlin, Mr. Joseph', 'Murphy, Miss. Katherine \"Kate\"', 'Murphy, Miss. Margaret Jane', 'Myhrman, Mr. Pehr Fabian Oliver Malkolm', 'Naidenoff, Mr. Penko', 'Najib, Miss. Adele Kiamie \"Jane\"', 'Nakid, Miss. Maria (\"Mary\")', 'Nakid, Mr. Sahid', 'Nankoff, Mr. Minko', 'Nasser, Mr. Nicholas', 'Nasser, Mrs. Nicholas (Adele Achem)', 'Natsch, Mr. Charles H', 'Navratil, Master. Edmond Roger', 'Navratil, Master. Michel M', 'Navratil, Mr. Michel (\"Louis M Hoffman\")', 'Nenkoff, Mr. Christo', 'Newell, Miss. Madeleine', 'Newell, Miss. Marjorie', 'Newell, Mr. Arthur Webster', 'Newsom, Miss. Helen Monypeny', 'Nicholls, Mr. Joseph Charles', 'Nicholson, Mr. Arthur Ernest', 'Nicola-Yarred, Master. Elias', 'Nicola-Yarred, Miss. Jamila', 'Nilsson, Miss. Helmina Josefina', 'Nirva, Mr. Iisakki Antino Aijo', 'Niskanen, Mr. Juha', 'Norman, Mr. Robert Douglas', 'Nosworthy, Mr. Richard Cater', 'Novel, Mr. Mansouer', 'Nye, Mrs. (Elizabeth Ramell)', 'Nysten, Miss. Anna Sofia', 'Nysveen, Mr. Johan Hansen', \"O'Brien, Mr. Thomas\", \"O'Brien, Mr. Timothy\", 'O\\'Brien, Mrs. Thomas (Johanna \"Hannah\" Godfrey)', \"O'Connell, Mr. Patrick D\", \"O'Connor, Mr. Maurice\", \"O'Driscoll, Miss. Bridget\", 'O\\'Dwyer, Miss. Ellen \"Nellie\"', 'O\\'Leary, Miss. Hanora \"Norah\"', \"O'Sullivan, Miss. Bridget Mary\", 'Odahl, Mr. Nils Martin', 'Ohman, Miss. Velin', 'Olsen, Mr. Henry Margido', 'Olsen, Mr. Karl Siegwart Andreas', 'Olsen, Mr. Ole Martin', 'Olsson, Miss. Elina', 'Olsson, Mr. Nils Johan Goransson', 'Olsvigen, Mr. Thor Anderson', 'Oreskovic, Miss. Marija', 'Oreskovic, Mr. Luka', 'Osen, Mr. Olaf Elon', 'Osman, Mrs. Mara', 'Ostby, Mr. Engelhart Cornelius', 'Otter, Mr. Richard', 'Padro y Manent, Mr. Julian', 'Pain, Dr. Alfred', 'Palsson, Master. Gosta Leonard', 'Palsson, Miss. Stina Viola', 'Palsson, Miss. Torborg Danira', 'Palsson, Mrs. Nils (Alma Cornelia Berglund)', 'Panula, Master. Eino Viljami', 'Panula, Master. Juha Niilo', 'Panula, Master. Urho Abraham', 'Panula, Mr. Ernesti Arvid', 'Panula, Mr. Jaako Arnold', 'Panula, Mrs. Juha (Maria Emilia Ojala)', 'Parkes, Mr. Francis \"Frank\"', 'Parr, Mr. William Henry Marsh', 'Parrish, Mrs. (Lutie Davis)', 'Partner, Mr. Austen', 'Pasic, Mr. Jakob', 'Patchett, Mr. George', 'Paulner, Mr. Uscher', 'Pavlovic, Mr. Stefo', 'Pears, Mr. Thomas Clinton', 'Pears, Mrs. Thomas (Edith Wearne)', 'Peduzzi, Mr. Joseph', 'Pekoniemi, Mr. Edvard', 'Penasco y Castellana, Mr. Victor de Satode', 'Penasco y Castellana, Mrs. Victor de Satode (Maria Josefa Perez de Soto y Vallejo)', 'Pengelly, Mr. Frederick William', 'Perkin, Mr. John Henry', 'Pernot, Mr. Rene', 'Perreault, Miss. Anne', 'Persson, Mr. Ernst Ulrik', 'Peter, Miss. Anna', 'Peter, Mrs. Catherine (Catherine Rizk)', 'Peters, Miss. Katie', 'Petranec, Miss. Matilda', 'Petroff, Mr. Nedelio', 'Petroff, Mr. Pastcho (\"Pentcho\")', 'Petterson, Mr. Johan Emil', 'Pettersson, Miss. Ellen Natalia', 'Peuchen, Major. Arthur Godfrey', 'Phillips, Miss. Kate Florence (\"Mrs Kate Louise Phillips Marshall\")', 'Pickard, Mr. Berk (Berk Trembisky)', 'Pinsky, Mrs. (Rosa)', 'Plotcharsky, Mr. Vasil', 'Ponesell, Mr. Martin', 'Porter, Mr. Walter Chamberlain', 'Potter, Mrs. Thomas Jr (Lily Alexenia Wilson)', 'Quick, Miss. Phyllis May', 'Quick, Mrs. Frederick Charles (Jane Richards)', 'Radeff, Mr. Alexander', 'Razi, Mr. Raihed', 'Reed, Mr. James George', 'Reeves, Mr. David', 'Rekic, Mr. Tido', 'Renouf, Mr. Peter Henry', 'Renouf, Mrs. Peter Henry (Lillian Jefferys)', 'Reuchlin, Jonkheer. John George', 'Reynaldo, Ms. Encarnacion', 'Rice, Master. Arthur', 'Rice, Master. Eric', 'Rice, Master. Eugene', 'Rice, Master. George Hugh', 'Rice, Mrs. William (Margaret Norton)', 'Richard, Mr. Emile', 'Richards, Master. George Sibley', 'Richards, Master. William Rowe', 'Richards, Mrs. Sidney (Emily Hocking)', 'Ridsdale, Miss. Lucy', 'Ringhini, Mr. Sante', 'Rintamaki, Mr. Matti', 'Risien, Mr. Samuel Beard', 'Robbins, Mr. Victor', 'Robert, Mrs. Edward Scott (Elisabeth Walton McMillan)', 'Robins, Mrs. Alexander A (Grace Charity Laury)', 'Roebling, Mr. Washington Augustus II', 'Rogers, Mr. William John', 'Romaine, Mr. Charles Hallace (\"Mr C Rolmane\")', 'Rommetvedt, Mr. Knud Paust', 'Rood, Mr. Hugh Roscoe', 'Rosblom, Mr. Viktor Richard', 'Rosblom, Mrs. Viktor (Helena Wilhelmina)', 'Ross, Mr. John Hugo', 'Rothes, the Countess. of (Lucy Noel Martha Dyer-Edwards)', 'Rothschild, Mrs. Martin (Elizabeth L. Barrett)', 'Rouse, Mr. Richard Henry', 'Rugg, Miss. Emily', 'Rush, Mr. Alfred George John', 'Ryan, Mr. Patrick', 'Ryerson, Miss. Emily Borie', 'Ryerson, Miss. Susan Parker \"Suzette\"', 'Saad, Mr. Amin', 'Saad, Mr. Khalil', 'Saalfeld, Mr. Adolphe', 'Sadlier, Mr. Matthew', 'Sage, Master. Thomas Henry', 'Sage, Miss. Constance Gladys', 'Sage, Miss. Dorothy Edith \"Dolly\"', 'Sage, Miss. Stella Anna', 'Sage, Mr. Douglas Bullen', 'Sage, Mr. Frederick', 'Sage, Mr. George John Jr', 'Sagesser, Mlle. Emma', 'Salkjelsvik, Miss. Anna Kristine', 'Salonen, Mr. Johan Werner', 'Samaan, Mr. Youssef', 'Sandstrom, Miss. Marguerite Rut', 'Sandstrom, Mrs. Hjalmar (Agnes Charlotta Bengtsson)', 'Saundercock, Mr. William Henry', 'Sawyer, Mr. Frederick Charles', 'Scanlan, Mr. James', 'Sdycoff, Mr. Todor', 'Sedgwick, Mr. Charles Frederick Waddington', 'Serepeca, Miss. Augusta', 'Seward, Mr. Frederic Kimber', 'Sharp, Mr. Percival James R', 'Sheerlinck, Mr. Jan Baptist', 'Shellard, Mr. Frederick William', 'Shelley, Mrs. William (Imanita Parrish Hall)', 'Shorney, Mr. Charles Joseph', 'Shutes, Miss. Elizabeth W', 'Silven, Miss. Lyyli Karoliina', 'Silverthorne, Mr. Spencer Victor', 'Silvey, Mr. William Baird', 'Silvey, Mrs. William Baird (Alice Munger)', 'Simmons, Mr. John', 'Simonius-Blumer, Col. Oberst Alfons', 'Sinkkonen, Miss. Anna', 'Sirayanian, Mr. Orsen', 'Sirota, Mr. Maurice', 'Sivic, Mr. Husein', 'Sivola, Mr. Antti Wilhelm', 'Sjoblom, Miss. Anna Sofia', 'Sjostedt, Mr. Ernst Adolf', 'Skoog, Master. Harald', 'Skoog, Master. Karl Thorsten', 'Skoog, Miss. Mabel', 'Skoog, Miss. Margit Elizabeth', 'Skoog, Mr. Wilhelm', 'Skoog, Mrs. William (Anna Bernhardina Karlsson)', 'Slabenoff, Mr. Petco', 'Slayter, Miss. Hilda Mary', 'Slemen, Mr. Richard James', 'Slocovski, Mr. Selman Francis', 'Sloper, Mr. William Thompson', 'Smart, Mr. John Montgomery', 'Smiljanic, Mr. Mile', 'Smith, Miss. Marion Elsie', 'Smith, Mr. James Clinch', 'Smith, Mr. Richard William', 'Smith, Mr. Thomas', 'Sobey, Mr. Samuel James Hayden', 'Soholt, Mr. Peter Andreas Lauritz Andersen', 'Somerton, Mr. Francis William', 'Spedden, Mrs. Frederic Oakley (Margaretta Corning Stone)', 'Spencer, Mrs. William Augustus (Marie Eugenie)', 'Stahelin-Maeglin, Dr. Max', 'Staneff, Mr. Ivan', 'Stankovic, Mr. Ivan', 'Stanley, Miss. Amy Zillah Elsie', 'Stanley, Mr. Edward Roland', 'Stead, Mr. William Thomas', 'Stephenson, Mrs. Walter Bertram (Martha Eustis)', 'Stewart, Mr. Albert A', 'Stone, Mrs. George Nelson (Martha Evelyn)', 'Stoytcheff, Mr. Ilia', 'Strandberg, Miss. Ida Sofia', 'Stranden, Mr. Juho', 'Strom, Miss. Telma Matilda', 'Strom, Mrs. Wilhelm (Elna Matilda Persson)', 'Sunderland, Mr. Victor Francis', 'Sundman, Mr. Johan Julian', 'Sutehall, Mr. Henry Jr', 'Sutton, Mr. Frederick', 'Svensson, Mr. Johan', 'Svensson, Mr. Olof', 'Swift, Mrs. Frederick Joel (Margaret Welles Barron)', 'Taussig, Miss. Ruth', 'Taussig, Mr. Emil', 'Taussig, Mrs. Emil (Tillie Mandelbaum)', 'Taylor, Mr. Elmer Zebley', 'Taylor, Mrs. Elmer Zebley (Juliet Cummins Wright)', 'Thayer, Mr. John Borland', 'Thayer, Mr. John Borland Jr', 'Thayer, Mrs. John Borland (Marian Longstreth Morris)', 'Theobald, Mr. Thomas Leonard', 'Thomas, Master. Assad Alexander', 'Thorne, Mrs. Gertrude Maybelle', 'Thorneycroft, Mr. Percival', 'Thorneycroft, Mrs. Percival (Florence Kate White)', 'Tikkanen, Mr. Juho', 'Tobin, Mr. Roger', 'Todoroff, Mr. Lalio', 'Tomlin, Mr. Ernest Portage', 'Toomey, Miss. Ellen', 'Torber, Mr. Ernst William', 'Tornquist, Mr. William Henry', 'Toufik, Mr. Nakli', 'Touma, Mrs. Darwis (Hanne Youssef Razi)', 'Troupiansky, Mr. Moses Aaron', 'Trout, Mrs. William H (Jessie L)', 'Troutt, Miss. Edwina Celia \"Winnie\"', 'Turcin, Mr. Stjepan', 'Turja, Miss. Anna Sofia', 'Turkula, Mrs. (Hedwig)', 'Turpin, Mr. William John Robert', 'Turpin, Mrs. William John Robert (Dorothy Ann Wonnacott)', 'Uruchurtu, Don. Manuel E', 'Van Impe, Miss. Catharina', 'Van Impe, Mr. Jean Baptiste', 'Van Impe, Mrs. Jean Baptiste (Rosalie Paula Govaert)', 'Van der hoef, Mr. Wyckoff', 'Vande Velde, Mr. Johannes Joseph', 'Vande Walle, Mr. Nestor Cyriel', 'Vanden Steen, Mr. Leo Peter', 'Vander Cruyssen, Mr. Victor', 'Vander Planke, Miss. Augusta Maria', 'Vander Planke, Mr. Leo Edmondus', 'Vander Planke, Mrs. Julius (Emelia Maria Vandemoortele)', 'Vestrom, Miss. Hulda Amanda Adolfina', 'Vovk, Mr. Janko', 'Waelens, Mr. Achille', 'Walker, Mr. William Anderson', 'Ward, Miss. Anna', 'Warren, Mrs. Frank Manley (Anna Sophia Atkinson)', 'Watson, Mr. Ennis Hastings', 'Watt, Mrs. James (Elizabeth \"Bessie\" Inglis Milne)', 'Webber, Miss. Susan', 'Webber, Mr. James', 'Weir, Col. John', 'Weisz, Mrs. Leopold (Mathilde Francoise Pede)', 'Wells, Miss. Joan', 'West, Miss. Constance Mirium', 'West, Mr. Edwy Arthur', 'West, Mrs. Edwy Arthur (Ada Mary Worth)', 'Wheadon, Mr. Edward H', 'White, Mr. Percival Wayland', 'White, Mr. Richard Frasar', 'Wick, Miss. Mary Natalie', 'Wick, Mrs. George Dennick (Mary Hitchcock)', 'Widegren, Mr. Carl/Charles Peter', 'Widener, Mr. Harry Elkins', 'Wiklund, Mr. Jakob Alfred', 'Wilhelms, Mr. Charles', 'Willey, Mr. Edward', 'Williams, Mr. Charles Duane', 'Williams, Mr. Charles Eugene', 'Williams, Mr. Howard Hugh \"Harry\"', 'Williams, Mr. Leslie', 'Williams-Lambert, Mr. Fletcher Fellows', 'Windelov, Mr. Einar', 'Wiseman, Mr. Phillippe', 'Woolner, Mr. Hugh', 'Wright, Mr. George', 'Yasbeck, Mr. Antoni', 'Yasbeck, Mrs. Antoni (Selini Alexander)', 'Young, Miss. Marie Grice', 'Youseff, Mr. Gerious', 'Yousif, Mr. Wazli', 'Yousseff, Mr. Gerious', 'Yrois, Miss. Henriette (\"Mrs Harbeck\")', 'Zabour, Miss. Hileni', 'Zabour, Miss. Thamine', 'Zimmerman, Mr. Leo', 'de Messemaeker, Mrs. Guillaume Joseph (Emma)', 'de Mulder, Mr. Theodore', 'de Pelsmaeker, Mr. Alfons', 'del Carlo, Mr. Sebastiano', 'van Billiard, Mr. Austin Blyler', 'van Melkebeke, Mr. Philemon'])\n",
      "Sex : 2 (['female', 'male'])\n",
      "Age : 89 ([0.83, 2.0, 3.0, 4.0, 5.0, 7.0, 8.0, 11.0, 14.0, 15.0, 16.0, 17.0, 18.0, 19.0, 20.0, 21.0, 22.0, 23.0, 24.0, 25.0, 26.0, 27.0, 28.0, 28.5, 29.0, 30.0, 31.0, 32.0, 33.0, 34.0, 35.0, 38.0, nan, 0.42, 0.67, 0.75, 0.92, 1.0, 6.0, 9.0, 10.0, 12.0, 13.0, 14.5, 20.5, 23.5, 24.5, 30.5, 32.5, 34.5, 36.0, 36.5, 37.0, 39.0, 40.0, 40.5, 41.0, 42.0, 43.0, 44.0, 45.0, 45.5, 46.0, 47.0, 48.0, 49.0, 50.0, 51.0, 52.0, 53.0, 54.0, 55.0, 55.5, 56.0, 57.0, 58.0, 59.0, 60.0, 61.0, 62.0, 63.0, 64.0, 65.0, 66.0, 70.0, 70.5, 71.0, 74.0, 80.0])\n",
      "SibSp : 7 ([0, 1, 2, 3, 4, 5, 8])\n",
      "Parch : 7 ([0, 1, 2, 3, 4, 5, 6])\n",
      "Ticket : 681 (['110152', '110413', '110465', '110564', '110813', '111240', '111320', '111361', '111369', '111426', '111427', '111428', '112050', '112052', '112053', '112058', '112059', '112277', '112379', '113028', '113043', '113050', '113051', '113055', '113056', '113059', '113501', '113503', '113505', '113509', '113510', '113514', '113572', '113760', '113767', '113773', '113776', '113781', '113783', '113784', '113786', '113787', '113788', '113789', '113792', '113794', '113796', '113798', '113800', '113803', '113804', '113806', '113807', '11668', '11751', '11752', '11753', '11755', '11765', '11767', '11769', '11771', '11774', '11813', '11967', '12233', '12460', '12749', '13049', '13213', '13214', '13502', '13507', '13509', '13567', '13568', '14311', '14312', '14313', '14973', '1601', '16966', '16988', '17421', '17453', '17463', '17464', '17465', '17466', '17474', '17764', '19877', '19928', '19943', '19947', '19950', '19952', '19972', '19988', '19996', '2003', '211536', '21440', '218629', '219533', '220367', '220845', '2223', '223596', '226593', '226875', '228414', '229236', '230080', '230136', '230433', '230434', '231919', '231945', '233639', '233866', '234360', '234604', '234686', '234818', '236171', '236852', '236853', '237442', '237565', '237668', '237671', '237736', '237789', '237798', '239853', '239854', '239855', '239856', '239865', '240929', '24160', '243847', '243880', '244252', '244270', '244278', '244310', '244358', '244361', '244367', '244373', '248698', '248706', '248723', '248727', '248731', '248733', '248738', '248740', '248747', '250643', '250644', '250646', '250647', '250648', '250649', '250651', '250652', '250653', '250655', '2620', '2623', '2624', '2625', '2626', '2627', '2628', '2629', '2631', '26360', '2641', '2647', '2648', '2649', '2650', '2651', '2653', '2659', '2661', '2662', '2663', '2664', '2665', '2666', '2667', '2668', '2669', '26707', '2671', '2672', '2674', '2677', '2678', '2680', '2683', '2685', '2686', '2687', '2689', '2690', '2691', '2693', '2694', '2695', '2697', '2699', '2700', '27042', '27267', '27849', '28134', '28206', '28213', '28220', '28228', '28403', '28424', '28425', '28551', '28664', '28665', '29011', '2908', '29103', '29104', '29105', '29106', '29108', '2926', '29750', '29751', '3101264', '3101265', '3101267', '3101276', '3101277', '3101278', '3101281', '3101295', '3101296', '3101298', '31027', '31028', '312991', '312992', '312993', '31418', '315037', '315082', '315084', '315086', '315088', '315089', '315090', '315093', '315094', '315096', '315097', '315098', '315151', '315153', '323592', '323951', '324669', '330877', '330909', '330919', '330923', '330931', '330932', '330935', '330958', '330959', '330979', '330980', '334912', '335097', '335677', '33638', '336439', '3411', '341826', '34218', '342826', '343095', '343120', '343275', '343276', '345364', '345572', '345763', '345764', '345765', '345767', '345769', '345770', '345773', '345774', '345777', '345778', '345779', '345780', '345781', '345783', '3460', '347054', '347060', '347061', '347062', '347063', '347064', '347067', '347068', '347069', '347071', '347073', '347074', '347076', '347077', '347078', '347080', '347081', '347082', '347083', '347085', '347087', '347088', '347089', '3474', '347464', '347466', '347468', '347470', '347742', '347743', '348121', '348123', '348124', '349201', '349203', '349204', '349205', '349206', '349207', '349208', '349209', '349210', '349212', '349213', '349214', '349215', '349216', '349217', '349218', '349219', '349221', '349222', '349223', '349224', '349225', '349227', '349228', '349231', '349233', '349234', '349236', '349237', '349239', '349240', '349241', '349242', '349243', '349244', '349245', '349246', '349247', '349248', '349249', '349251', '349252', '349253', '349254', '349256', '349257', '349909', '349910', '349912', '350025', '350026', '350029', '350034', '350035', '350036', '350042', '350043', '350046', '350047', '350048', '350050', '350052', '350060', '350404', '350406', '350407', '350417', '35273', '35281', '35851', '35852', '358585', '36209', '362316', '363291', '363294', '363592', '364498', '364499', '364500', '364506', '364511', '364512', '364516', '364846', '364848', '364849', '364850', '364851', '365222', '365226', '36568', '367226', '367228', '367229', '367230', '367231', '367232', '367655', '368323', '36864', '36865', '36866', '368703', '36928', '36947', '36963', '36967', '36973', '370129', '370365', '370369', '370370', '370371', '370372', '370373', '370375', '370376', '370377', '371060', '371110', '371362', '372622', '373450', '374746', '374887', '374910', '376564', '376566', '382649', '382651', '382652', '383121', '384461', '386525', '392091', '392092', '392096', '394140', '4133', '4134', '4135', '4136', '4137', '4138', '4579', '54636', '5727', '65303', '65304', '65306', '6563', '693', '695', '7267', '7534', '7540', '7545', '7546', '7552', '7553', '7598', '8471', '8475', '9234', 'A./5. 2152', 'A./5. 3235', 'A.5. 11206', 'A.5. 18509', 'A/4 45380', 'A/4 48871', 'A/4. 20589', 'A/4. 34244', 'A/4. 39886', 'A/5 21171', 'A/5 21172', 'A/5 21173', 'A/5 21174', 'A/5 2466', 'A/5 2817', 'A/5 3536', 'A/5 3540', 'A/5 3594', 'A/5 3902', 'A/5. 10482', 'A/5. 13032', 'A/5. 2151', 'A/5. 3336', 'A/5. 3337', 'A/5. 851', 'A/S 2816', 'A4. 54510', 'C 17369', 'C 4001', 'C 7075', 'C 7076', 'C 7077', 'C.A. 17248', 'C.A. 18723', 'C.A. 2315', 'C.A. 24579', 'C.A. 24580', 'C.A. 2673', 'C.A. 29178', 'C.A. 29395', 'C.A. 29566', 'C.A. 31026', 'C.A. 31921', 'C.A. 33111', 'C.A. 33112', 'C.A. 33595', 'C.A. 34260', 'C.A. 34651', 'C.A. 37671', 'C.A. 5547', 'C.A. 6212', 'C.A./SOTON 34068', 'CA 2144', 'CA. 2314', 'CA. 2343', 'F.C. 12750', 'F.C.C. 13528', 'F.C.C. 13529', 'F.C.C. 13531', 'Fa 265302', 'LINE', 'P/PP 3381', 'PC 17318', 'PC 17473', 'PC 17474', 'PC 17475', 'PC 17476', 'PC 17477', 'PC 17482', 'PC 17483', 'PC 17485', 'PC 17558', 'PC 17569', 'PC 17572', 'PC 17582', 'PC 17585', 'PC 17590', 'PC 17592', 'PC 17593', 'PC 17595', 'PC 17596', 'PC 17597', 'PC 17599', 'PC 17600', 'PC 17601', 'PC 17603', 'PC 17604', 'PC 17605', 'PC 17608', 'PC 17609', 'PC 17610', 'PC 17611', 'PC 17612', 'PC 17754', 'PC 17755', 'PC 17756', 'PC 17757', 'PC 17758', 'PC 17759', 'PC 17760', 'PC 17761', 'PP 4348', 'PP 9549', 'S.C./A.4. 23567', 'S.C./PARIS 2079', 'S.O./P.P. 3', 'S.O./P.P. 751', 'S.O.C. 14879', 'S.O.P. 1166', 'S.P. 3464', 'S.W./PP 752', 'SC 1748', 'SC/AH 29037', 'SC/AH 3085', 'SC/AH Basle 541', 'SC/PARIS 2131', 'SC/PARIS 2133', 'SC/PARIS 2146', 'SC/PARIS 2149', 'SC/PARIS 2167', 'SC/Paris 2123', 'SC/Paris 2163', 'SCO/W 1585', 'SO/C 14885', 'SOTON/O.Q. 3101305', 'SOTON/O.Q. 3101306', 'SOTON/O.Q. 3101307', 'SOTON/O.Q. 3101310', 'SOTON/O.Q. 3101311', 'SOTON/O.Q. 3101312', 'SOTON/O.Q. 392078', 'SOTON/O.Q. 392087', 'SOTON/O2 3101272', 'SOTON/O2 3101287', 'SOTON/OQ 3101316', 'SOTON/OQ 3101317', 'SOTON/OQ 392076', 'SOTON/OQ 392082', 'SOTON/OQ 392086', 'SOTON/OQ 392089', 'SOTON/OQ 392090', 'STON/O 2. 3101269', 'STON/O 2. 3101273', 'STON/O 2. 3101274', 'STON/O 2. 3101275', 'STON/O 2. 3101280', 'STON/O 2. 3101285', 'STON/O 2. 3101286', 'STON/O 2. 3101288', 'STON/O 2. 3101289', 'STON/O 2. 3101292', 'STON/O 2. 3101293', 'STON/O 2. 3101294', 'STON/O2. 3101271', 'STON/O2. 3101279', 'STON/O2. 3101282', 'STON/O2. 3101283', 'STON/O2. 3101290', 'SW/PP 751', 'W./C. 14258', 'W./C. 14263', 'W./C. 6607', 'W./C. 6608', 'W./C. 6609', 'W.E.P. 5734', 'W/C 14208', 'WE/P 5735'])\n",
      "Fare : 248 ([0.0, 4.0125, 5.0, 6.2375, 6.4375, 6.45, 6.4958, 6.75, 6.8583, 6.95, 6.975, 7.0458, 7.05, 7.0542, 7.125, 7.1417, 7.225, 7.2292, 7.25, 7.3125, 7.4958, 7.5208, 7.55, 7.6292, 7.65, 7.725, 7.7292, 7.7333, 7.7375, 7.7417, 7.75, 7.775, 7.7875, 7.7958, 7.8, 7.8292, 7.8542, 7.875, 7.8792, 7.8875, 7.8958, 7.925, 8.0292, 8.05, 8.1125, 8.1375, 8.1583, 8.3, 8.3625, 8.4042, 8.4333, 8.4583, 8.5167, 8.6542, 8.6625, 8.6833, 8.7125, 8.85, 9.0, 9.2167, 9.225, 9.35, 9.475, 9.4833, 9.5, 9.5875, 9.825, 9.8375, 9.8417, 9.8458, 10.1708, 10.4625, 10.5, 10.5167, 11.1333, 11.2417, 11.5, 12.0, 12.275, 12.2875, 12.35, 12.475, 12.525, 12.65, 12.875, 13.0, 13.4167, 13.5, 13.7917, 13.8583, 13.8625, 14.0, 14.1083, 14.4, 14.4542, 14.4583, 14.5, 15.0, 15.0458, 15.05, 15.1, 15.2458, 15.5, 15.55, 15.7417, 15.75, 15.85, 15.9, 16.0, 16.1, 16.7, 17.4, 17.8, 18.0, 18.75, 18.7875, 19.2583, 19.5, 19.9667, 20.2125, 20.25, 20.525, 20.575, 21.0, 21.075, 21.6792, 22.025, 22.3583, 22.525, 23.0, 23.25, 23.45, 24.0, 24.15, 25.4667, 25.5875, 25.925, 25.9292, 26.0, 26.25, 26.2833, 26.2875, 26.3875, 26.55, 27.0, 27.7208, 27.75, 27.9, 28.5, 28.7125, 29.0, 29.125, 29.7, 30.0, 30.0708, 30.5, 30.6958, 31.0, 31.275, 31.3875, 32.3208, 32.5, 33.0, 33.5, 34.0208, 34.375, 34.6542, 35.0, 35.5, 36.75, 37.0042, 38.5, 39.0, 39.4, 39.6, 39.6875, 40.125, 41.5792, 42.4, 46.9, 47.1, 49.5, 49.5042, 50.0, 50.4958, 51.4792, 51.8625, 52.0, 52.5542, 53.1, 55.0, 55.4417, 55.9, 56.4958, 56.9292, 57.0, 57.9792, 59.4, 61.175, 61.3792, 61.9792, 63.3583, 65.0, 66.6, 69.3, 69.55, 71.0, 71.2833, 73.5, 75.25, 76.2917, 76.7292, 77.2875, 77.9583, 78.2667, 78.85, 79.2, 79.65, 80.0, 81.8583, 82.1708, 83.1583, 83.475, 86.5, 89.1042, 90.0, 91.0792, 93.5, 106.425, 108.9, 110.8833, 113.275, 120.0, 133.65, 134.5, 135.6333, 146.5208, 151.55, 153.4625, 164.8667, 211.3375, 211.5, 221.7792, 227.525, 247.5208, 262.375, 263.0, 512.3292])\n",
      "Cabin : 148 (['A10', 'A14', 'A16', 'A19', 'A20', 'A23', 'A24', 'A26', 'A31', 'A32', 'A34', 'A36', 'A5', 'A6', 'A7', 'B101', 'B102', 'B18', 'B19', 'B20', 'B22', 'B28', 'B3', 'B30', 'B35', 'B37', 'B38', 'B39', 'B4', 'B41', 'B42', 'B49', 'B5', 'B50', 'B51 B53 B55', 'B57 B59 B63 B66', 'B58 B60', 'B69', 'B71', 'B73', 'B77', 'B78', 'B79', 'B80', 'B82 B84', 'B86', 'B94', 'B96 B98', 'C101', 'C103', 'C104', 'C106', 'C110', 'C111', 'C118', 'C123', 'C124', 'C125', 'C126', 'C128', 'C148', 'C2', 'C22 C26', 'C23 C25 C27', 'C30', 'C32', 'C45', 'C46', 'C47', 'C49', 'C50', 'C52', 'C54', 'C62 C64', 'C65', 'C68', 'C7', 'C70', 'C78', 'C82', 'C83', 'C85', 'C86', 'C87', 'C90', 'C91', 'C92', 'C93', 'C95', 'C99', 'D', 'D10 D12', 'D11', 'D15', 'D17', 'D19', 'D20', 'D21', 'D26', 'D28', 'D30', 'D33', 'D35', 'D36', 'D37', 'D45', 'D46', 'D47', 'D48', 'D49', 'D50', 'D56', 'D6', 'D7', 'D9', 'E10', 'E101', 'E12', 'E121', 'E17', 'E24', 'E25', 'E31', 'E33', 'E34', 'E36', 'E38', 'E40', 'E44', 'E46', 'E49', 'E50', 'E58', 'E63', 'E67', 'E68', 'E77', 'E8', 'F E69', 'F G63', 'F G73', 'F2', 'F33', 'F38', 'F4', 'G6', 'T', 'nan'])\n",
      "Embarked : 4 (['C', 'Q', 'S', 'nan'])\n"
     ]
    }
   ],
   "source": [
    "for column in train.columns:\n",
    "    values = train[column].unique().tolist()\n",
    "    values.sort()\n",
    "    print(\"{} : {} ({})\".format(column, len(values), values))"
   ],
   "metadata": {
    "collapsed": false,
    "pycharm": {
     "name": "#%%\n"
    }
   }
  },
  {
   "cell_type": "markdown",
   "source": [
    "- Test :"
   ],
   "metadata": {
    "collapsed": false
   }
  },
  {
   "cell_type": "code",
   "execution_count": 36,
   "outputs": [
    {
     "name": "stdout",
     "output_type": "stream",
     "text": [
      "PassengerId : 418 ([892, 893, 894, 895, 896, 897, 898, 899, 900, 901, 902, 903, 904, 905, 906, 907, 908, 909, 910, 911, 912, 913, 914, 915, 916, 917, 918, 919, 920, 921, 922, 923, 924, 925, 926, 927, 928, 929, 930, 931, 932, 933, 934, 935, 936, 937, 938, 939, 940, 941, 942, 943, 944, 945, 946, 947, 948, 949, 950, 951, 952, 953, 954, 955, 956, 957, 958, 959, 960, 961, 962, 963, 964, 965, 966, 967, 968, 969, 970, 971, 972, 973, 974, 975, 976, 977, 978, 979, 980, 981, 982, 983, 984, 985, 986, 987, 988, 989, 990, 991, 992, 993, 994, 995, 996, 997, 998, 999, 1000, 1001, 1002, 1003, 1004, 1005, 1006, 1007, 1008, 1009, 1010, 1011, 1012, 1013, 1014, 1015, 1016, 1017, 1018, 1019, 1020, 1021, 1022, 1023, 1024, 1025, 1026, 1027, 1028, 1029, 1030, 1031, 1032, 1033, 1034, 1035, 1036, 1037, 1038, 1039, 1040, 1041, 1042, 1043, 1044, 1045, 1046, 1047, 1048, 1049, 1050, 1051, 1052, 1053, 1054, 1055, 1056, 1057, 1058, 1059, 1060, 1061, 1062, 1063, 1064, 1065, 1066, 1067, 1068, 1069, 1070, 1071, 1072, 1073, 1074, 1075, 1076, 1077, 1078, 1079, 1080, 1081, 1082, 1083, 1084, 1085, 1086, 1087, 1088, 1089, 1090, 1091, 1092, 1093, 1094, 1095, 1096, 1097, 1098, 1099, 1100, 1101, 1102, 1103, 1104, 1105, 1106, 1107, 1108, 1109, 1110, 1111, 1112, 1113, 1114, 1115, 1116, 1117, 1118, 1119, 1120, 1121, 1122, 1123, 1124, 1125, 1126, 1127, 1128, 1129, 1130, 1131, 1132, 1133, 1134, 1135, 1136, 1137, 1138, 1139, 1140, 1141, 1142, 1143, 1144, 1145, 1146, 1147, 1148, 1149, 1150, 1151, 1152, 1153, 1154, 1155, 1156, 1157, 1158, 1159, 1160, 1161, 1162, 1163, 1164, 1165, 1166, 1167, 1168, 1169, 1170, 1171, 1172, 1173, 1174, 1175, 1176, 1177, 1178, 1179, 1180, 1181, 1182, 1183, 1184, 1185, 1186, 1187, 1188, 1189, 1190, 1191, 1192, 1193, 1194, 1195, 1196, 1197, 1198, 1199, 1200, 1201, 1202, 1203, 1204, 1205, 1206, 1207, 1208, 1209, 1210, 1211, 1212, 1213, 1214, 1215, 1216, 1217, 1218, 1219, 1220, 1221, 1222, 1223, 1224, 1225, 1226, 1227, 1228, 1229, 1230, 1231, 1232, 1233, 1234, 1235, 1236, 1237, 1238, 1239, 1240, 1241, 1242, 1243, 1244, 1245, 1246, 1247, 1248, 1249, 1250, 1251, 1252, 1253, 1254, 1255, 1256, 1257, 1258, 1259, 1260, 1261, 1262, 1263, 1264, 1265, 1266, 1267, 1268, 1269, 1270, 1271, 1272, 1273, 1274, 1275, 1276, 1277, 1278, 1279, 1280, 1281, 1282, 1283, 1284, 1285, 1286, 1287, 1288, 1289, 1290, 1291, 1292, 1293, 1294, 1295, 1296, 1297, 1298, 1299, 1300, 1301, 1302, 1303, 1304, 1305, 1306, 1307, 1308, 1309])\n",
      "Pclass : 3 ([1, 2, 3])\n",
      "Name : 418 (['Abbott, Master. Eugene Joseph', 'Abelseth, Miss. Karen Marie', 'Abelseth, Mr. Olaus Jorgensen', 'Abrahamsson, Mr. Abraham August Johannes', 'Abrahim, Mrs. Joseph (Sophie Halaut Easu)', 'Aks, Master. Philip Frank', 'Aldworth, Mr. Charles Augustus', 'Allison, Mr. Hudson Joshua Creighton', 'Andersen, Mr. Albert Karvin', 'Andersson, Miss. Ida Augusta Margareta', 'Andersson, Mr. Johan Samuel', 'Andrew, Mr. Frank Thomas', 'Angheloff, Mr. Minko', 'Angle, Mr. William A', 'Aronsson, Mr. Ernst Axel Algot', 'Ashby, Mr. John', 'Asplund, Master. Carl Edgar', 'Asplund, Master. Filip Oscar', 'Asplund, Mr. Carl Oscar Vilhelm Gustafsson', 'Asplund, Mr. Johan Charles', 'Assaf Khalil, Mrs. Mariana (Miriam\")\"', 'Assaf, Mr. Gerios', 'Assam, Mr. Ali', 'Astor, Col. John Jacob', 'Baccos, Mr. Raffull', 'Badman, Miss. Emily Louisa', 'Baimbrigge, Mr. Charles Robert', 'Barry, Miss. Julia', 'Beattie, Mr. Thomson', 'Beauchamp, Mr. Henry James', 'Becker, Miss. Ruth Elizabeth', 'Becker, Mrs. Allen Oliver (Nellie E Baumgardner)', 'Bentham, Miss. Lilian W', 'Betros, Master. Seman', 'Bird, Miss. Ellen', 'Birnbaum, Mr. Jakob', 'Bjorklund, Mr. Ernst Herbert', 'Bonnell, Miss. Caroline', 'Borebank, Mr. John James', 'Botsford, Mr. William Hull', 'Boulos, Master. Akar', 'Bowen, Miss. Grace Scott', 'Bowenur, Mr. Solomon', 'Bradley, Miss. Bridget Delia', 'Brady, Mr. John Bertram', 'Braf, Miss. Elin Ester Maria', 'Brandeis, Mr. Emil', 'Brobeck, Mr. Karl Rudolf', 'Brown, Miss. Edith Eileen', 'Brown, Mrs. John Murray (Caroline Lane Lamson)', 'Bryhl, Miss. Dagmar Jenny Ingeborg ', 'Buckley, Miss. Katherine', 'Buckley, Mr. Daniel', 'Bucknell, Mrs. William Robert (Emma Eliza Ward)', 'Burns, Miss. Mary Delia', 'Cacic, Miss. Manda', 'Cacic, Mr. Jego Grga', 'Caldwell, Mr. Albert Francis', 'Canavan, Mr. Patrick', 'Candee, Mrs. Edward (Helen Churchill Hungerford)', 'Caram, Mr. Joseph', 'Cardeza, Mrs. James Warburton Martinez (Charlotte Wardle Drake)', 'Carlsson, Mr. Carl Robert', 'Carr, Miss. Jeannie', 'Carrau, Mr. Jose Pedro', 'Carver, Mr. Alfred John', 'Case, Mr. Howard Brown', 'Cassebeer, Mrs. Henry Arthur Jr (Eleanor Genevieve Fosdick)', 'Cavendish, Mrs. Tyrell William (Julia Florence Siegel)', 'Chaffee, Mrs. Herbert Fuller (Carrie Constance Toogood)', 'Chapman, Mrs. John Henry (Sara Elizabeth Lawry)', 'Chaudanson, Miss. Victorine', 'Chevre, Mr. Paul Romaine', 'Chisholm, Mr. Roderick Robert Crispin', 'Christy, Mrs. (Alice Frances)', 'Chronopoulos, Mr. Demetrios', 'Clark, Mr. Walter Miller', 'Clark, Mrs. Walter Miller (Virginia McDowell)', 'Clarke, Mr. Charles Valentine', 'Colbert, Mr. Patrick', 'Collett, Mr. Sidney C Stuart', 'Compton, Mr. Alexander Taylor Jr', 'Compton, Mrs. Alexander Taylor (Mary Eliza Ingersoll)', 'Conlon, Mr. Thomas Henry', 'Connolly, Miss. Kate', 'Cook, Mrs. (Selena Rogers)', 'Cor, Mr. Bartol', 'Cor, Mr. Ivan', 'Corbett, Mrs. Walter H (Irene Colvin)', 'Corey, Mrs. Percy C (Mary Phyllis Elizabeth Miller)', 'Cornell, Mrs. Robert Clifford (Malvina Helen Lamson)', 'Cotterill, Mr. Henry Harry\"\"', 'Coutts, Mrs. William (Winnie Minnie\" Treanor)\"', 'Crafton, Mr. John Bertram', 'Cribb, Miss. Laura Alice', 'Crosby, Mrs. Edward Gifford (Catherine Elizabeth Halstead)', 'Cumings, Mr. John Bradley', 'Daher, Mr. Shedid', 'Daly, Miss. Margaret Marcella Maggie\"\"', 'Danbom, Master. Gilbert Sigvard Emanuel', 'Daniels, Miss. Sarah', 'Davidson, Mrs. Thornton (Orian Hays)', 'Davies, Mr. Evan', 'Davies, Mr. John Samuel', 'Davies, Mr. Joseph', 'Davies, Mrs. John Morgan (Elizabeth Agnes Mary White) ', 'Davison, Mr. Thomas Henry', 'Deacon, Mr. Percy William', 'Dean, Miss. Elizabeth Gladys Millvina\"\"', 'Dean, Mrs. Bertram (Eva Georgetta Light)', 'Delalic, Mr. Redjo', 'Demetri, Mr. Marinko', 'Denbury, Mr. Herbert', 'Dennis, Mr. William', 'Dibden, Mr. William', 'Dika, Mr. Mirko', 'Dintcheff, Mr. Valtcho', 'Dodge, Dr. Washington', 'Dodge, Mrs. Washington (Ruth Vidaver)', 'Douglas, Mrs. Frederick Charles (Mary Helene Baxter)', 'Douglas, Mrs. Walter Donald (Mahala Dutton)', 'Doyle, Miss. Elizabeth', 'Drapkin, Miss. Jennie', 'Drew, Master. Marshall Brines', 'Drew, Mr. James Vivian', 'Dulles, Mr. William Crothers', 'Duquemin, Mr. Joseph', 'Duran y More, Miss. Florentina', 'Dyker, Mr. Adolf Fredrik', 'Dyker, Mrs. Adolf Fredrik (Anna Elisabeth Judith Andersson)', 'Earnshaw, Mrs. Boulton (Olive Potter)', 'Elias, Mr. Joseph', 'Enander, Mr. Ingvar', 'Evans, Miss. Edith Corse', 'Everett, Mr. Thomas James', 'Faunthorpe, Mr. Harry', 'Fillbrook, Mr. Joseph Charles', 'Finoli, Mr. Luigi', 'Flegenheim, Mrs. Alfred (Antoinette)', 'Fleming, Miss. Honora', 'Foley, Mr. Joseph', 'Foley, Mr. William', 'Ford, Mr. Arthur', 'Ford, Mr. Edward Watson', 'Fortune, Miss. Ethel Flora', 'Fortune, Mrs. Mark (Mary McDougald)', 'Fox, Mr. Patrick', 'Franklin, Mr. Charles (Charles Fardon)', 'Franklin, Mr. Thomas Parham', 'Frauenthal, Mr. Isaac Gerald', 'Frolicher-Stehli, Mrs. Maxmillian (Margaretha Emerentia Stehli)', 'Gale, Mr. Harry', 'Geiger, Miss. Amalie', 'Gibson, Miss. Dorothy Winifred', 'Gibson, Mrs. Leonard (Pauline C Boeson)', 'Gilbert, Mr. William', 'Giles, Mr. Edgar', 'Giles, Mr. Ralph', 'Goldsmith, Mr. Nathan', 'Goodwin, Miss. Jessie Allis', 'Goodwin, Mr. Charles Frederick', 'Gracie, Col. Archibald IV', 'Greenfield, Mrs. Leo David (Blanche Strouse)', 'Guest, Mr. Robert', 'Hagardon, Miss. Kate', 'Hansen, Mrs. Claus Peter (Jennie L Howard)', 'Harbeck, Mr. William H', 'Harder, Mrs. George Achilles (Dorothy Annan)', 'Hays, Mr. Charles Melville', 'Head, Mr. Christopher', 'Hee, Mr. Ling', 'Hellstrom, Miss. Hilda Maria', 'Henriksson, Miss. Jenny Lovisa', 'Herman, Miss. Kate', 'Herman, Mr. Samuel', 'Hilliard, Mr. Herbert Henry', 'Hiltunen, Miss. Marta', 'Hipkins, Mr. William Edward', 'Hirvonen, Mrs. Alexander (Helga E Lindqvist)', 'Hocking, Miss. Ellen Nellie\"\"', 'Hocking, Mr. Samuel James Metcalfe', 'Hold, Mrs. Stephen (Annie Margaret Hill)', 'Holthen, Mr. Johan Martin', 'Howard, Miss. May Elizabeth', 'Howard, Mr. Benjamin', 'Howard, Mrs. Benjamin (Ellen Truelove Arman)', 'Hyman, Mr. Abraham', 'Ilieff, Mr. Ylio', 'Ilmakangas, Miss. Ida Livija', 'Ismay, Mr. Joseph Bruce', 'Jefferys, Mr. Clifford Thomas', 'Jefferys, Mr. Ernest Wilfred', 'Johansson Palmquist, Mr. Oskar Leander', 'Johansson, Mr. Nils', 'Johnston, Master. William Arthur Willie\"\"', 'Johnston, Mrs. Andrew G (Elizabeth Lily\" Watson)\"', 'Jones, Mr. Charles Cresson', 'Jonsson, Mr. Nils Hilding', 'Julian, Mr. Henry Forbes', 'Karlsson, Mr. Einar Gervasius', 'Karlsson, Mr. Julius Konrad Eugen', 'Karnes, Mrs. J Frank (Claire Bennett)', 'Karun, Mr. Franz', 'Katavelas, Mr. Vassilios (Catavelas Vassilios\")\"', 'Keane, Mr. Daniel', 'Keeping, Mr. Edwin', 'Kelly, Mr. James', 'Kennedy, Mr. John', 'Kenyon, Mr. Frederick R', 'Khalil, Mr. Betros', 'Khalil, Mrs. Betros (Zahie Maria\" Elias)\"', 'Kiernan, Mr. John', 'Kimball, Mrs. Edwin Nelson Jr (Gertrude Parsons)', 'Kink, Miss. Maria', 'Kink-Heilmann, Mr. Anton', 'Kink-Heilmann, Mrs. Anton (Luise Heilmann)', 'Klasen, Miss. Gertrud Emilia', 'Klasen, Mrs. (Hulda Kristina Eugenia Lofqvist)', 'Krekorian, Mr. Neshan', 'Kreuchen, Miss. Emilie', 'Lahtinen, Rev. William', 'Lamb, Mr. John Joseph', 'Lane, Mr. Patrick', 'Laroche, Miss. Louise', 'Larsson-Rondberg, Mr. Edvard A', 'Lefebre, Mrs. Frank (Frances)', 'Lennon, Miss. Mary', 'Lindeberg-Lind, Mr. Erik Gustaf (Mr Edward Lingrey\")\"', 'Lindell, Mrs. Edvard Bengtsson (Elin Gerda Persson)', 'Lindstrom, Mrs. Carl Johan (Sigrid Posse)', 'Linehan, Mr. Michael', 'Lines, Mrs. Ernest H (Elizabeth Lindsey James)', 'Lingane, Mr. John', 'Lithman, Mr. Simon', 'Lockyer, Mr. Edward', 'Loring, Mr. Joseph Holland', 'Louch, Mr. Charles Alexander', 'Lundin, Miss. Olga Elida', 'Lundstrom, Mr. Thure Edvin', 'Lyntakoff, Mr. Stanko', 'MacKay, Mr. George William', 'Maguire, Mr. John Edward', 'Mahon, Miss. Bridget Delia', 'Mahon, Mr. John', 'Makinen, Mr. Kalle Edvard', 'Malachard, Mr. Noel', 'Mallet, Mrs. Albert (Antoinette Magnin)', 'Mangiavacchi, Mr. Serafino Emilio', 'Mardirosian, Mr. Sarkis', 'Marvin, Mrs. Daniel Warner (Mary Graham Carmichael Farquarson)', 'Matinoff, Mr. Nicola', 'Maybery, Mr. Frank Hubert', 'McCaffry, Mr. Thomas Francis', 'McCarthy, Miss. Catherine Katie\"\"', 'McCoy, Miss. Alicia', 'McCrae, Mr. Arthur Gordon', 'McCrie, Mr. James Matthew', 'McGowan, Miss. Katherine', \"McNamee, Mrs. Neal (Eileen O'Leary)\", 'McNeill, Miss. Bridget', 'Midtsjo, Mr. Karl Albert', 'Miles, Mr. Frank', 'Minahan, Mrs. William Edward (Lillian E Thorpe)', 'Minkoff, Mr. Lazar', 'Mock, Mr. Philipp Edmund', 'Moore, Mr. Clarence Bloomfield', 'Moubarek, Mrs. George (Omine Amenia\" Alexander)\"', 'Mulvihill, Miss. Bertha E', 'Murphy, Miss. Nora', 'Myles, Mr. Thomas Francis', 'Nakid, Mrs. Said (Waika Mary\" Mowad)\"', 'Nancarrow, Mr. William Henry', 'Nasr, Mr. Mustafa', 'Naughton, Miss. Hannah', 'Nesson, Mr. Israel', 'Nieminen, Miss. Manta Josefina', 'Niklasson, Mr. Samuel', 'Nilsson, Miss. Berta Olivia', 'Nilsson, Mr. August Ferdinand', 'Nourney, Mr. Alfred (Baron von Drachstedt\")\"', \"O'Connor, Mr. Patrick\", \"O'Donoghue, Ms. Bridget\", \"O'Keefe, Mr. Patrick\", 'Oliva y Ocana, Dona. Fermina', 'Olsen, Master. Artur Karl', 'Olsson, Mr. Oscar Wilhelm', 'Omont, Mr. Alfred Fernand', 'Oreskovic, Miss. Jelka', 'Ostby, Miss. Helene Ragnhild', 'Ovies y Rodriguez, Mr. Servando', 'Oxenham, Mr. Percy Thomas', 'Pallas y Castello, Mr. Emilio', 'Palsson, Master. Paul Folke', 'Parker, Mr. Clifford Richard', 'Payne, Mr. Vivian Ponsonby', 'Peacock, Master. Alfred Edward', 'Peacock, Miss. Treasteall', 'Peacock, Mrs. Benjamin (Edith Nile)', 'Pearce, Mr. Ernest', 'Pedersen, Mr. Olaf', 'Peltomaki, Mr. Nikolai Johannes', 'Peruschitz, Rev. Joseph Maria', 'Peter, Master. Michael J', 'Petersen, Mr. Marius', 'Phillips, Miss. Alice Frances Louisa', 'Phillips, Mr. Escott Robert', 'Pokrnic, Mr. Mate', 'Pokrnic, Mr. Tome', 'Portaluppi, Mr. Emilio Ilario Giuseppe', 'Pulbaum, Mr. Franz', 'Quick, Miss. Winifred Vera', 'Rasmussen, Mrs. (Lena Jacobsen Solvang)', 'Reynolds, Mr. Harold J', 'Rheims, Mr. George Alexander Lucien', 'Rice, Master. Albert', 'Riihivouri, Miss. Susanna Juhantytar Sanni\"\"', 'Riordan, Miss. Johanna Hannah\"\"', 'Risien, Mrs. Samuel (Emma)', 'Robins, Mr. Alexander A', 'Rogers, Mr. Reginald Harry', 'Rosblom, Miss. Salli Helena', 'Rosenbaum, Miss. Edith Louise', 'Rosenshine, Mr. George (Mr George Thorne\")\"', 'Roth, Miss. Sarah A', 'Rothschild, Mr. Martin', 'Rowe, Mr. Alfred G', 'Ryan, Mr. Edward', 'Ryerson, Master. John Borie', 'Ryerson, Mr. Arthur Larned', 'Ryerson, Mrs. Arthur Larned (Emily Maria Borie)', 'Saade, Mr. Jean Nassr', 'Sadowitz, Mr. Harry', 'Saether, Mr. Simon Sivertsen', 'Sage, Master. William Henry', 'Sage, Miss. Ada', 'Sage, Mr. John George', 'Sage, Mrs. John (Annie Bullen)', 'Salander, Mr. Karl Johan', 'Salomon, Mr. Abraham L', 'Samaan, Mr. Elias', 'Samaan, Mr. Hanna', 'Sandstrom, Miss. Beatrice Irene', 'Sap, Mr. Julius', 'Schabert, Mrs. Paul (Emma Mock)', 'Schmidt, Mr. August', 'Shaughnessy, Mr. Patrick', 'Shine, Miss. Ellen Natalia', 'Sincock, Miss. Maude', 'Smith, Mr. Lucien Philip', 'Smith, Mrs. Lucien Philip (Mary Eloise Hughes)', 'Smyth, Miss. Julia', 'Snyder, Mr. John Pillsbury', 'Snyder, Mrs. John Pillsbury (Nelle Stevenson)', 'Spector, Mr. Woolf', 'Spedden, Master. Robert Douglas', 'Spedden, Mr. Frederic Oakley', 'Spencer, Mr. William Augustus', 'Spinner, Mr. Henry John', 'Stanton, Mr. Samuel Ward', 'Stengel, Mr. Charles Emil Henry', 'Stengel, Mrs. Charles Emil Henry (Annie May Morris)', 'Stokes, Mr. Philip Joseph', 'Storey, Mr. Thomas', 'Straus, Mr. Isidor', 'Straus, Mrs. Isidor (Rosalie Ida Blun)', 'Strilic, Mr. Ivan', 'Svensson, Mr. Johan Cervin', 'Swane, Mr. George', 'Sweet, Mr. George Frederick', 'Tenglin, Mr. Gunnar Isidor', 'Thomas, Mr. Charles P', 'Thomas, Mr. John', 'Thomas, Mr. Tannous', 'Thomas, Mrs. Alexander (Thamine Thelma\")\"', 'Thomson, Mr. Alexander Morrison', 'Torfa, Mr. Assad', 'Touma, Master. Georges Youssef', 'Touma, Miss. Maria Youssef', 'Tucker, Mr. Gilbert Milligan Jr', 'Vander Planke, Mr. Julius', 'Vartanian, Mr. David', 'Veal, Mr. James', 'Vendel, Mr. Olof Edvin', 'Walcroft, Miss. Nellie', 'Ware, Mr. Frederick', 'Ware, Mr. John James', 'Ware, Mr. William Jeffery', 'Ware, Mrs. John James (Florence Louise Long)', 'Warren, Mr. Charles William', 'Warren, Mr. Frank Manley', 'Watt, Miss. Bertha J', 'Weisz, Mr. Leopold', 'Wells, Master. Ralph Lester', 'Wells, Mrs. Arthur Henry (Addie\" Dart Trevaskis)\"', 'Wenzel, Mr. Linhart', 'West, Miss. Barbara J', 'Whabee, Mrs. George Joseph (Shawneene Abi-Saab)', 'Wheeler, Mr. Edwin Frederick\"\"', 'White, Mrs. John Stuart (Ella Holmes)', 'Wick, Mr. George Dennick', 'Widener, Mr. George Dunton', 'Widener, Mrs. George Dunton (Eleanor Elkins)', 'Wiklund, Mr. Karl Johan', 'Wilkes, Mrs. James (Ellen Needs)', 'Willard, Miss. Constance', 'Willer, Mr. Aaron (Abi Weller\")\"', 'Williams, Mr. Richard Norris II', 'Wilson, Miss. Helen Alice', 'Wirz, Mr. Albert', 'Wittevrongel, Mr. Camille', 'Wright, Miss. Marion', 'Zakarian, Mr. Mapriededer', 'Zakarian, Mr. Ortin', 'de Brito, Mr. Jose Joaquim', 'de Messemaeker, Mr. Guillaume Joseph', 'del Carlo, Mrs. Sebastiano (Argenia Genovesi)', 'van Billiard, Master. James William', 'van Billiard, Master. Walter John'])\n",
      "Sex : 2 (['female', 'male'])\n",
      "Age : 80 ([6.0, 9.0, 10.0, 13.0, 14.0, 17.0, 18.0, 18.5, 20.0, 21.0, 22.0, 22.5, 23.0, 24.0, 25.0, 26.0, 27.0, 28.0, 28.5, 29.0, 30.0, 31.0, 32.0, 32.5, 33.0, 34.5, 35.0, 36.0, 39.0, 41.0, 45.0, 46.0, 47.0, 50.0, 62.0, nan, 0.17, 0.33, 0.75, 0.83, 0.92, 1.0, 2.0, 3.0, 5.0, 7.0, 8.0, 11.5, 12.0, 14.5, 15.0, 16.0, 19.0, 26.5, 34.0, 36.5, 37.0, 38.0, 38.5, 40.0, 40.5, 42.0, 43.0, 44.0, 48.0, 49.0, 51.0, 53.0, 54.0, 55.0, 57.0, 58.0, 59.0, 60.0, 60.5, 61.0, 63.0, 64.0, 67.0, 76.0])\n",
      "SibSp : 7 ([0, 1, 2, 3, 4, 5, 8])\n",
      "Parch : 8 ([0, 1, 2, 3, 4, 5, 6, 9])\n",
      "Ticket : 363 (['110469', '110489', '110813', '111163', '112051', '112058', '112377', '112378', '112901', '113038', '113044', '113054', '113059', '113503', '113509', '113773', '113778', '113780', '113781', '113790', '113791', '113795', '113796', '113801', '11753', '11765', '11767', '11769', '11770', '11778', '11813', '1222', '12749', '13050', '13236', '13508', '13567', '13695', '13905', '1601', '16966', '17463', '17464', '17475', '17765', '17770', '19877', '19924', '19928', '19950', '2003', '211535', '21228', '21332', '220844', '220845', '226875', '228414', '230136', '233478', '233734', '235509', '236853', '236854', '237216', '237249', '237393', '237670', '237734', '237735', '237789', '239059', '240261', '240276', '24065', '24160', '242963', '244346', '244358', '244360', '244368', '248659', '248726', '248734', '248738', '248744', '248746', '250650', '250651', '2543', '2621', '2622', '2625', '26360', '2650', '2652', '2653', '2654', '2655', '2656', '2657', '2658', '2660', '2661', '2662', '2668', '2670', '26707', '2673', '2675', '2676', '2678', '2679', '2680', '2681', '2682', '2684', '2688', '2689', '2692', '2696', '2698', '28004', '28034', '28133', '28220', '28221', '28404', '28664', '28666', '29103', '29105', '29107', '2926', '29750', '3101266', '3101295', '3101297', '3101298', '315083', '315085', '315087', '315091', '315092', '315095', '315152', '315153', '315154', '32302', '329944', '330844', '330910', '330911', '330920', '330924', '330963', '330968', '330971', '330972', '334914', '334915', '335432', '33638', '3410', '342441', '342684', '342712', '343271', '345498', '345501', '345572', '345763', '345768', '345771', '345775', '3470', '347065', '347066', '347070', '347072', '347075', '347077', '347079', '347080', '347086', '347090', '347091', '347465', '347467', '347469', '347471', '348122', '348125', '349202', '349211', '349220', '349226', '349229', '349230', '349232', '349235', '349238', '349250', '349255', '349256', '349909', '349910', '349911', '350026', '350033', '350045', '350053', '350054', '350403', '350405', '350408', '350409', '350410', '350416', '359306', '359309', '363272', '363611', '364498', '364856', '364858', '364859', '365235', '365237', '36568', '366713', '367226', '367227', '368364', '368402', '368573', '368702', '368783', '36928', '3701', '370129', '370368', '370371', '370374', '371109', '371362', '376563', '376566', '382650', '382652', '382653', '383123', '383162', '386525', '392091', '392095', '4133', '65305', '680', '694', '7266', '7538', '7548', '7935', '9232', 'A. 2. 39186', 'A./5. 3338', 'A.5. 3236', 'A/4 31416', 'A/4 48871', 'A/4 48873', 'A/5 1478', 'A/5 21175', 'A/5. 3337', 'A/5. 851', 'AQ/3. 30631', 'AQ/4 3130', 'C 17368', 'C 4001', 'C.A. 15185', 'C.A. 2315', 'C.A. 2673', 'C.A. 30769', 'C.A. 31029', 'C.A. 31030', 'C.A. 33112', 'C.A. 33595', 'C.A. 34050', 'C.A. 34644', 'C.A. 34651', 'C.A. 37671', 'C.A. 42795', 'C.A. 49867', 'C.A. 6212', 'CA 2144', 'CA 31352', 'CA. 2343', 'F.C. 12750', 'F.C. 12998', 'F.C.C. 13528', 'F.C.C. 13534', 'F.C.C. 13540', 'LP 1588', 'PC 17483', 'PC 17531', 'PC 17558', 'PC 17562', 'PC 17569', 'PC 17580', 'PC 17585', 'PC 17591', 'PC 17592', 'PC 17594', 'PC 17597', 'PC 17598', 'PC 17599', 'PC 17603', 'PC 17606', 'PC 17607', 'PC 17608', 'PC 17613', 'PC 17755', 'PC 17756', 'PC 17757', 'PC 17758', 'PC 17759', 'PC 17760', 'PC 17761', 'PP 9549', 'S.C./PARIS 2079', 'S.O./P.P. 2', 'S.O./P.P. 251', 'S.O./P.P. 752', 'S.O.C. 14879', 'SC 14888', 'SC/A.3 2861', 'SC/A4 23568', 'SC/AH 29037', 'SC/AH 3085', 'SC/PARIS 2147', 'SC/PARIS 2148', 'SC/PARIS 2159', 'SC/PARIS 2166', 'SC/PARIS 2167', 'SC/PARIS 2168', 'SC/Paris 2123', 'SOTON/O.Q. 3101262', 'SOTON/O.Q. 3101263', 'SOTON/O.Q. 3101308', 'SOTON/O.Q. 3101309', 'SOTON/O.Q. 3101314', 'SOTON/O.Q. 3101315', 'SOTON/O2 3101284', 'SOTON/OQ 392083', 'STON/O 2. 3101268', 'STON/O 2. 3101291', 'STON/O2. 3101270', 'STON/OQ. 369943', 'W./C. 14260', 'W./C. 14266', 'W./C. 6607', 'W./C. 6608', 'W.E.P. 5734'])\n",
      "Fare : 170 ([3.1708, 6.4375, 6.4958, 7.05, 7.55, 7.7333, 7.8875, 8.1125, 8.9625, 10.5, 12.1833, 13.775, 13.8583, 14.4, 15.1, 15.5, 16.0, 18.0, 22.025, 25.7417, 27.4458, 30.0, 31.3875, 32.5, 34.375, 36.75, 39.0, 42.5, 46.9, 50.4958, 51.8625, 53.1, 65.0, 71.2833, 73.5, 83.1583, 151.55, nan, 0.0, 6.95, 7.0, 7.225, 7.2292, 7.25, 7.2833, 7.575, 7.5792, 7.6292, 7.65, 7.7208, 7.725, 7.75, 7.775, 7.7792, 7.7958, 7.8208, 7.8292, 7.85, 7.8542, 7.8792, 7.8958, 7.925, 8.05, 8.5167, 8.6625, 8.7125, 9.225, 9.325, 9.35, 9.5, 9.6875, 10.7083, 11.5, 12.2875, 12.35, 12.7375, 12.875, 13.0, 13.4167, 13.5, 13.8625, 13.9, 14.1083, 14.4542, 14.4583, 14.5, 15.0333, 15.0458, 15.2458, 15.55, 15.5792, 15.7417, 15.75, 15.9, 16.1, 16.7, 17.4, 20.2125, 20.25, 20.575, 21.0, 21.075, 21.6792, 22.3583, 22.525, 23.0, 23.25, 23.45, 24.15, 25.4667, 25.7, 26.0, 26.55, 27.7208, 27.75, 28.5, 28.5375, 29.0, 29.125, 29.7, 30.5, 31.5, 31.6792, 31.6833, 37.0042, 39.4, 39.6, 39.6875, 41.5792, 42.4, 45.5, 47.1, 50.0, 51.4792, 52.0, 52.5542, 55.4417, 56.4958, 57.75, 59.4, 60.0, 61.175, 61.3792, 61.9792, 63.3583, 69.55, 75.2417, 75.25, 76.2917, 78.85, 79.2, 81.8583, 82.2667, 90.0, 93.5, 106.425, 108.9, 134.5, 135.6333, 136.7792, 146.5208, 164.8667, 211.3375, 211.5, 221.7792, 227.525, 247.5208, 262.375, 263.0, 512.3292])\n",
      "Cabin : 77 (['A11', 'A18', 'A21', 'A29', 'A34', 'A9', 'B10', 'B11', 'B24', 'B26', 'B36', 'B41', 'B45', 'B51 B53 B55', 'B52 B54 B56', 'B57 B59 B63 B66', 'B58 B60', 'B61', 'B69', 'B71', 'B78', 'C101', 'C105', 'C106', 'C116', 'C130', 'C132', 'C22 C26', 'C23 C25 C27', 'C28', 'C31', 'C32', 'C39', 'C46', 'C51', 'C53', 'C54', 'C55 C57', 'C6', 'C62 C64', 'C7', 'C78', 'C80', 'C85', 'C86', 'C89', 'C97', 'D', 'D10 D12', 'D15', 'D19', 'D21', 'D22', 'D28', 'D30', 'D34', 'D37', 'D38', 'D40', 'D43', 'E31', 'E34', 'E39 E41', 'E45', 'E46', 'E50', 'E52', 'E60', 'F', 'F E46', 'F E57', 'F G63', 'F2', 'F33', 'F4', 'G6', 'nan'])\n",
      "Embarked : 3 (['C', 'Q', 'S'])\n"
     ]
    }
   ],
   "source": [
    "for column in test.columns:\n",
    "    values = test[column].unique().tolist()\n",
    "    values.sort()\n",
    "    print(\"{} : {} ({})\".format(column, len(values), values))"
   ],
   "metadata": {
    "collapsed": false,
    "pycharm": {
     "name": "#%%\n"
    }
   }
  },
  {
   "cell_type": "markdown",
   "source": [
    "#### Notes on variables\n",
    "\n",
    "- PassengerId : One by passenger, no correlation possible.\n",
    "- Name : One by passenger.\n",
    "- Cabin : To much missing value. Can create binary variable (variable is NA or got cabin information).\n",
    "- Ticket : To much unique value to find pattern and duplicate (is it normal to have duplicate ??)."
   ],
   "metadata": {
    "collapsed": false
   }
  },
  {
   "cell_type": "markdown",
   "source": [
    "#### Create variable with Cabin variable"
   ],
   "metadata": {
    "collapsed": false,
    "pycharm": {
     "name": "#%% md\n"
    }
   }
  },
  {
   "cell_type": "code",
   "execution_count": 37,
   "outputs": [],
   "source": [
    "train[\"got_Cabin\"] = ~(train[\"Cabin\"] == \"nan\")\n",
    "test[\"got_Cabin\"] = ~(test[\"Cabin\"] == \"nan\")"
   ],
   "metadata": {
    "collapsed": false,
    "pycharm": {
     "name": "#%%\n"
    }
   }
  },
  {
   "cell_type": "markdown",
   "source": [
    "#### Visualisation : Categorical variable"
   ],
   "metadata": {
    "collapsed": false,
    "pycharm": {
     "name": "#%% md\n"
    }
   }
  },
  {
   "cell_type": "markdown",
   "source": [
    "- Train :"
   ],
   "metadata": {
    "collapsed": false,
    "pycharm": {
     "name": "#%% md\n"
    }
   }
  },
  {
   "cell_type": "code",
   "execution_count": 38,
   "outputs": [
    {
     "data": {
      "text/plain": "<Figure size 1440x720 with 7 Axes>",
      "image/png": "[encoded data removed]"
     },
     "metadata": {
      "needs_background": "light"
     },
     "output_type": "display_data"
    }
   ],
   "source": [
    "f, axs = plt.subplots(2, 4, figsize=(20, 10))\n",
    "\n",
    "sns.countplot(x=\"Survived\",data=train, ax=axs[0, 0])\n",
    "axs[0, 0].set_title(\"Survived\")\n",
    "sns.countplot(x=\"Pclass\",data=train, ax=axs[0, 1])\n",
    "axs[0, 1].set_title(\"Pclass\")\n",
    "sns.countplot(x=\"Sex\",data=train, ax=axs[0, 2], order=[\"male\", \"female\"])\n",
    "axs[0, 2].set_title(\"Sex\")\n",
    "sns.countplot(x=\"SibSp\",data=train, ax=axs[0, 3])\n",
    "axs[0, 3].set_title(\"SibSp\")\n",
    "sns.countplot(x=\"Parch\", data=train, ax=axs[1, 0])\n",
    "axs[1, 0].set_title(\"Parch\")\n",
    "sns.countplot(x=\"Embarked\", data=train, ax=axs[1, 1], order=[\"S\", \"C\", \"Q\"])\n",
    "axs[1, 1].set_title(\"Embarked\")\n",
    "sns.countplot(x=\"got_Cabin\", data=train, ax=axs[1, 2], order=[True, False])\n",
    "axs[1, 2].set_title(\"got_Cabin\")\n",
    "f.delaxes(axs[1, 3])"
   ],
   "metadata": {
    "collapsed": false,
    "pycharm": {
     "name": "#%%\n"
    }
   }
  },
  {
   "cell_type": "markdown",
   "source": [
    "- Test :"
   ],
   "metadata": {
    "collapsed": false,
    "pycharm": {
     "name": "#%% md\n"
    }
   }
  },
  {
   "cell_type": "code",
   "execution_count": 39,
   "outputs": [
    {
     "data": {
      "text/plain": "Text(0.5, 1.0, 'got_Cabin')"
     },
     "execution_count": 39,
     "metadata": {},
     "output_type": "execute_result"
    },
    {
     "data": {
      "text/plain": "<Figure size 1080x720 with 6 Axes>",
      "image/png": "[encoded data removed]"
     },
     "metadata": {
      "needs_background": "light"
     },
     "output_type": "display_data"
    }
   ],
   "source": [
    "_, axs = plt.subplots(2, 3, figsize=(15, 10))\n",
    "\n",
    "sns.countplot(x=\"Pclass\",data=test, ax=axs[0, 0])\n",
    "axs[0, 0].set_title(\"Pclass\")\n",
    "sns.countplot(x=\"Sex\",data=test, ax=axs[0, 1],  order=[\"male\", \"female\"])\n",
    "axs[0, 1].set_title(\"Sex\")\n",
    "sns.countplot(x=\"SibSp\",data=test, ax=axs[0, 2])\n",
    "axs[1, 2].set_title(\"SibSp\")\n",
    "sns.countplot(x=\"Parch\", data=test, ax=axs[1, 0])\n",
    "axs[1, 0].set_title(\"Parch\")\n",
    "sns.countplot(x=\"Embarked\", data=test, ax=axs[1, 1], order=[\"S\", \"C\", \"Q\"])\n",
    "axs[1, 1].set_title(\"Embarked\")\n",
    "sns.countplot(x=\"got_Cabin\", data=test, ax=axs[1, 2], order=[True, False])\n",
    "axs[1, 2].set_title(\"got_Cabin\")"
   ],
   "metadata": {
    "collapsed": false,
    "pycharm": {
     "name": "#%%\n"
    }
   }
  },
  {
   "cell_type": "markdown",
   "source": [
    "#### Visualisation distribution : numeric variable\n",
    "\n",
    "- Age:"
   ],
   "metadata": {
    "collapsed": false,
    "pycharm": {
     "name": "#%% md\n"
    }
   }
  },
  {
   "cell_type": "code",
   "execution_count": 40,
   "outputs": [
    {
     "data": {
      "text/plain": "<AxesSubplot:ylabel='Frequency'>"
     },
     "execution_count": 40,
     "metadata": {},
     "output_type": "execute_result"
    },
    {
     "data": {
      "text/plain": "<Figure size 432x288 with 1 Axes>",
      "image/png": "[encoded data removed]"
     },
     "metadata": {
      "needs_background": "light"
     },
     "output_type": "display_data"
    }
   ],
   "source": [
    "train[\"Age\"].plot.hist(alpha=0.65, color=\"blue\", label=\"train\", legend=True, density=True)\n",
    "test[\"Age\"].plot.hist(alpha=0.75, color=\"orange\", label=\"test\", legend=True, density=True)"
   ],
   "metadata": {
    "collapsed": false,
    "pycharm": {
     "name": "#%%\n"
    }
   }
  },
  {
   "cell_type": "markdown",
   "source": [
    "- Fare :\n"
   ],
   "metadata": {
    "collapsed": false,
    "pycharm": {
     "name": "#%% md\n"
    }
   }
  },
  {
   "cell_type": "code",
   "execution_count": 41,
   "outputs": [
    {
     "data": {
      "text/plain": "<AxesSubplot:ylabel='Frequency'>"
     },
     "execution_count": 41,
     "metadata": {},
     "output_type": "execute_result"
    },
    {
     "data": {
      "text/plain": "<Figure size 432x288 with 1 Axes>",
      "image/png": "[encoded data removed]"
     },
     "metadata": {
      "needs_background": "light"
     },
     "output_type": "display_data"
    }
   ],
   "source": [
    "train[\"Fare\"].plot.hist(alpha=0.65, color=\"blue\", label=\"train\", legend=True, density=True)\n",
    "test[\"Fare\"].plot.hist(alpha=0.75, color=\"orange\", label=\"test\", legend=True, density=True)\n"
   ],
   "metadata": {
    "collapsed": false,
    "pycharm": {
     "name": "#%%\n"
    }
   }
  },
  {
   "cell_type": "markdown",
   "source": [
    "## Relation with variables with variable to predict\n",
    "\n",
    "- Class : Less chance to survive in 3 class than the other class."
   ],
   "metadata": {
    "collapsed": false,
    "pycharm": {
     "name": "#%% md\n"
    }
   }
  },
  {
   "cell_type": "code",
   "execution_count": 42,
   "outputs": [
    {
     "name": "stdout",
     "output_type": "stream",
     "text": [
      "- Chi2 : 102.88898875696056 \n",
      "- dof : 2 \n",
      "- p-value : 4.549251711298793e-23\n"
     ]
    },
    {
     "data": {
      "text/plain": "<Figure size 432x288 with 1 Axes>",
      "image/png": "[encoded data removed]"
     },
     "metadata": {
      "needs_background": "light"
     },
     "output_type": "display_data"
    }
   ],
   "source": [
    "train[['Survived', 'Pclass']].groupby(['Pclass']).mean().plot.bar(y=\"Survived\", rot=0)\n",
    "\n",
    "t = stats.chi2_contingency(pd.crosstab(train[\"Survived\"], train[\"Pclass\"]))\n",
    "print(\"- Chi2 : {} \\n\"\n",
    "      \"- dof : {} \\n\"\n",
    "      \"- p-value : {}\".format(t[0], t[2], t[1]))"
   ],
   "metadata": {
    "collapsed": false,
    "pycharm": {
     "name": "#%%\n"
    }
   }
  },
  {
   "cell_type": "markdown",
   "source": [
    "- Sex : Men have more likely to die and women more likely to live."
   ],
   "metadata": {
    "collapsed": false,
    "pycharm": {
     "name": "#%% md\n"
    }
   }
  },
  {
   "cell_type": "code",
   "execution_count": 43,
   "outputs": [
    {
     "name": "stdout",
     "output_type": "stream",
     "text": [
      "- Chi2 : 260.71702016732104 \n",
      "- dof : 1 \n",
      "- p-value : 1.1973570627755645e-58\n"
     ]
    },
    {
     "data": {
      "text/plain": "<Figure size 432x288 with 1 Axes>",
      "image/png": "[encoded data removed]"
     },
     "metadata": {
      "needs_background": "light"
     },
     "output_type": "display_data"
    }
   ],
   "source": [
    "train[['Survived', 'Sex']].groupby(['Sex']).mean().plot.bar(y=\"Survived\", rot=0)\n",
    "\n",
    "t = stats.chi2_contingency(pd.crosstab(train[\"Survived\"], train[\"Sex\"]))\n",
    "print(\"- Chi2 : {} \\n\"\n",
    "      \"- dof : {} \\n\"\n",
    "      \"- p-value : {}\".format(t[0], t[2], t[1]))"
   ],
   "metadata": {
    "collapsed": false,
    "pycharm": {
     "name": "#%%\n"
    }
   }
  },
  {
   "cell_type": "markdown",
   "source": [
    "- SibSp : Can create class 4/5 and more to help with test set."
   ],
   "metadata": {
    "collapsed": false
   }
  },
  {
   "cell_type": "code",
   "execution_count": 44,
   "outputs": [
    {
     "name": "stdout",
     "output_type": "stream",
     "text": [
      "- Chi2 : 37.27179291520431 \n",
      "- dof : 6 \n",
      "- p-value : 1.5585810465902116e-06\n"
     ]
    },
    {
     "data": {
      "text/plain": "<Figure size 432x288 with 1 Axes>",
      "image/png": "[encoded data removed]"
     },
     "metadata": {
      "needs_background": "light"
     },
     "output_type": "display_data"
    }
   ],
   "source": [
    "train[['Survived', 'SibSp']].groupby(['SibSp']).mean().plot.bar(y=\"Survived\", rot=0)\n",
    "\n",
    "t = stats.chi2_contingency(pd.crosstab(train[\"Survived\"], train[\"SibSp\"]))\n",
    "print(\"- Chi2 : {} \\n\"\n",
    "      \"- dof : {} \\n\"\n",
    "      \"- p-value : {}\".format(t[0], t[2], t[1]))"
   ],
   "metadata": {
    "collapsed": false,
    "pycharm": {
     "name": "#%%\n"
    }
   }
  },
  {
   "cell_type": "markdown",
   "source": [
    "- Parch : Can create class 5 and more to help with test set."
   ],
   "metadata": {
    "collapsed": false
   }
  },
  {
   "cell_type": "code",
   "execution_count": 45,
   "outputs": [
    {
     "name": "stdout",
     "output_type": "stream",
     "text": [
      "- Chi2 : 27.925784060236168 \n",
      "- dof : 6 \n",
      "- p-value : 9.703526421039997e-05\n"
     ]
    },
    {
     "data": {
      "text/plain": "<Figure size 432x288 with 1 Axes>",
      "image/png": "[encoded data removed]"
     },
     "metadata": {
      "needs_background": "light"
     },
     "output_type": "display_data"
    }
   ],
   "source": [
    "train[['Survived', 'Parch']].groupby(['Parch']).mean().plot.bar(y=\"Survived\", rot=0)\n",
    "\n",
    "t = stats.chi2_contingency(pd.crosstab(train[\"Survived\"], train[\"Parch\"]))\n",
    "print(\"- Chi2 : {} \\n\"\n",
    "      \"- dof : {} \\n\"\n",
    "      \"- p-value : {}\".format(t[0], t[2], t[1]))"
   ],
   "metadata": {
    "collapsed": false,
    "pycharm": {
     "name": "#%%\n"
    }
   }
  },
  {
   "cell_type": "markdown",
   "source": [
    "- Embarked : C more likely to survive but not by a lot."
   ],
   "metadata": {
    "collapsed": false
   }
  },
  {
   "cell_type": "code",
   "execution_count": 46,
   "outputs": [
    {
     "name": "stdout",
     "output_type": "stream",
     "text": [
      "- Chi2 : 29.67061419139438 \n",
      "- dof : 3 \n",
      "- p-value : 1.61871880094504e-06\n"
     ]
    },
    {
     "data": {
      "text/plain": "<Figure size 432x288 with 1 Axes>",
      "image/png": "[encoded data removed]"
     },
     "metadata": {
      "needs_background": "light"
     },
     "output_type": "display_data"
    }
   ],
   "source": [
    "train[['Survived', 'Embarked']].groupby(['Embarked']).mean().plot.bar(y=\"Survived\", rot=0)\n",
    "\n",
    "t = stats.chi2_contingency(pd.crosstab(train[\"Survived\"], train[\"Embarked\"]))\n",
    "print(\"- Chi2 : {} \\n\"\n",
    "      \"- dof : {} \\n\"\n",
    "      \"- p-value : {}\".format(t[0], t[2], t[1]))"
   ],
   "metadata": {
    "collapsed": false,
    "pycharm": {
     "name": "#%%\n"
    }
   }
  },
  {
   "cell_type": "markdown",
   "source": [
    "- got_Cabin : C more likely to survive but not by a lot."
   ],
   "metadata": {
    "collapsed": false
   }
  },
  {
   "cell_type": "code",
   "execution_count": 47,
   "outputs": [
    {
     "name": "stdout",
     "output_type": "stream",
     "text": [
      "- Chi2 : 87.94148561238097 \n",
      "- dof : 1 \n",
      "- p-value : 6.7419704360811776e-21\n"
     ]
    },
    {
     "data": {
      "text/plain": "<Figure size 432x288 with 1 Axes>",
      "image/png": "[encoded data removed]"
     },
     "metadata": {
      "needs_background": "light"
     },
     "output_type": "display_data"
    }
   ],
   "source": [
    "train[['Survived', 'got_Cabin']].groupby(['got_Cabin']).mean().plot.bar(y=\"Survived\", rot=0)\n",
    "\n",
    "t = stats.chi2_contingency(pd.crosstab(train[\"Survived\"], train[\"got_Cabin\"]))\n",
    "print(\"- Chi2 : {} \\n\"\n",
    "      \"- dof : {} \\n\"\n",
    "      \"- p-value : {}\".format(t[0], t[2], t[1]))"
   ],
   "metadata": {
    "collapsed": false,
    "pycharm": {
     "name": "#%%\n"
    }
   }
  },
  {
   "cell_type": "markdown",
   "source": [
    "- Age :"
   ],
   "metadata": {
    "collapsed": false,
    "pycharm": {
     "name": "#%% md\n"
    }
   }
  },
  {
   "cell_type": "code",
   "execution_count": 91,
   "outputs": [
    {
     "name": "stdout",
     "output_type": "stream",
     "text": [
      "                 sum_sq     df         F    PR(>F)\n",
      "Survived     897.187582    1.0  4.271195  0.039125\n",
      "Residual  149559.448362  712.0       NaN       NaN\n"
     ]
    },
    {
     "data": {
      "text/plain": "<Figure size 432x288 with 1 Axes>",
      "image/png": "[encoded data removed]"
     },
     "metadata": {
      "needs_background": "light"
     },
     "output_type": "display_data"
    }
   ],
   "source": [
    "train.boxplot(column=\"Age\", by=\"Survived\")\n",
    "\n",
    "mod = ols(\"Age ~ Survived\", data=train).fit()\n",
    "aov_table = sm.stats.anova_lm(mod, typ=2)\n",
    "print(aov_table)"
   ],
   "metadata": {
    "collapsed": false,
    "pycharm": {
     "name": "#%%\n"
    }
   }
  },
  {
   "cell_type": "markdown",
   "source": [
    "- Fare :"
   ],
   "metadata": {
    "collapsed": false,
    "pycharm": {
     "name": "#%% md\n"
    }
   }
  },
  {
   "cell_type": "code",
   "execution_count": 92,
   "outputs": [
    {
     "name": "stdout",
     "output_type": "stream",
     "text": [
      "                sum_sq     df          F        PR(>F)\n",
      "Survived  1.455089e+05    1.0  63.030764  6.120189e-15\n",
      "Residual  2.052290e+06  889.0        NaN           NaN\n"
     ]
    },
    {
     "data": {
      "text/plain": "<Figure size 432x288 with 1 Axes>",
      "image/png": "[encoded data removed]"
     },
     "metadata": {
      "needs_background": "light"
     },
     "output_type": "display_data"
    }
   ],
   "source": [
    "train.boxplot(column=\"Fare\", by=\"Survived\")\n",
    "\n",
    "mod = ols(\"Fare ~ Survived\", data=train).fit()\n",
    "aov_table = sm.stats.anova_lm(mod, typ=2)\n",
    "print(aov_table)"
   ],
   "metadata": {
    "collapsed": false,
    "pycharm": {
     "name": "#%%\n"
    }
   }
  },
  {
   "cell_type": "markdown",
   "source": [
    "## Data imputation\n",
    "\n",
    "#### Data modification"
   ],
   "metadata": {
    "collapsed": false,
    "pycharm": {
     "name": "#%% md\n"
    }
   }
  },
  {
   "cell_type": "code",
   "execution_count": 72,
   "outputs": [],
   "source": [
    "train = pd.read_csv(\"./data/train.csv\")\n",
    "test = pd.read_csv(\"./data/test.csv\")\n",
    "\n",
    "# Create new variables\n",
    "\n",
    "train[\"got_Cabin\"] = ~train[\"Cabin\"].isna()\n",
    "test[\"got_Cabin\"] = ~test[\"Cabin\"].isna()\n",
    "\n",
    "# Keep test ID\n",
    "test_PassengerId = test[\"PassengerId\"]\n",
    "\n",
    "# Drop useless column\n",
    "train = train.drop(columns=[\"PassengerId\"])\n",
    "test = test.drop(columns=[\"PassengerId\"])\n",
    "\n",
    "train = train.drop(columns=[\"Name\"])\n",
    "test = test.drop(columns=[\"Name\"])\n",
    "\n",
    "train = train.drop(columns=[\"Cabin\"])\n",
    "test = test.drop(columns=[\"Cabin\"])\n",
    "\n",
    "train = train.drop(columns=[\"Ticket\"])\n",
    "test = test.drop(columns=[\"Ticket\"])\n",
    "\n",
    "# Set categorical variable to int\n",
    "train[\"Sex\"] = train[\"Sex\"].map({\"male\": 0, \"female\": 1}).astype(int)\n",
    "test[\"Sex\"] = test[\"Sex\"].map({\"male\": 0, \"female\": 1}).astype(int)\n",
    "\n",
    "train.loc[~train[\"Embarked\"].isna(), \"Embarked\"] = train.loc[~train[\"Embarked\"].isna(), \"Embarked\"].map({\"S\": 0, \"C\": 1, \"Q\": 2}).astype(int)\n",
    "test.loc[~test[\"Embarked\"].isna(), \"Embarked\"] = test.loc[~test[\"Embarked\"].isna(), \"Embarked\"].map({\"S\": 0, \"C\": 1, \"Q\": 2}).astype(int)\n",
    "\n",
    "train[\"got_Cabin\"] = train[\"got_Cabin\"].map({False: 0, True: 1}).astype(int)\n",
    "test[\"got_Cabin\"] = test[\"got_Cabin\"].map({False: 0, True: 1}).astype(int)"
   ],
   "metadata": {
    "collapsed": false,
    "pycharm": {
     "name": "#%%\n"
    }
   }
  },
  {
   "cell_type": "markdown",
   "source": [
    "#### Modification categorical variable **Parch** and **SibSp**.\n",
    "\n",
    "Gather class with few observation."
   ],
   "metadata": {
    "collapsed": false,
    "pycharm": {
     "name": "#%% md\n"
    }
   }
  },
  {
   "cell_type": "code",
   "execution_count": 73,
   "outputs": [],
   "source": [
    "train.loc[train[\"Parch\"] >= 3, \"Parch\"] = 3\n",
    "test.loc[train[\"Parch\"] >= 3, \"Parch\"] = 3\n",
    "\n",
    "train.loc[train[\"SibSp\"] >= 2, \"SibSp\"] = 2\n",
    "test.loc[train[\"SibSp\"] >= 2, \"SibSp\"] = 2"
   ],
   "metadata": {
    "collapsed": false,
    "pycharm": {
     "name": "#%%\n"
    }
   }
  },
  {
   "cell_type": "markdown",
   "source": [
    "#### Imputation variable **Embarked** (train set)\n",
    "\n",
    "We will simply put the most frequent value in the dataset."
   ],
   "metadata": {
    "collapsed": false,
    "pycharm": {
     "name": "#%% md\n"
    }
   }
  },
  {
   "cell_type": "code",
   "execution_count": 74,
   "outputs": [
    {
     "data": {
      "text/plain": "     Survived  Pclass  Sex   Age  SibSp  Parch  Fare Embarked  got_Cabin\n61          1       1    1  38.0      0      0  80.0      NaN          1\n829         1       1    1  62.0      0      0  80.0      NaN          1",
      "text/html": "<div>\n<style scoped>\n    .dataframe tbody tr th:only-of-type {\n        vertical-align: middle;\n    }\n\n    .dataframe tbody tr th {\n        vertical-align: top;\n    }\n\n    .dataframe thead th {\n        text-align: right;\n    }\n</style>\n<table border=\"1\" class=\"dataframe\">\n  <thead>\n    <tr style=\"text-align: right;\">\n      <th></th>\n      <th>Survived</th>\n      <th>Pclass</th>\n      <th>Sex</th>\n      <th>Age</th>\n      <th>SibSp</th>\n      <th>Parch</th>\n      <th>Fare</th>\n      <th>Embarked</th>\n      <th>got_Cabin</th>\n    </tr>\n  </thead>\n  <tbody>\n    <tr>\n      <th>61</th>\n      <td>1</td>\n      <td>1</td>\n      <td>1</td>\n      <td>38.0</td>\n      <td>0</td>\n      <td>0</td>\n      <td>80.0</td>\n      <td>NaN</td>\n      <td>1</td>\n    </tr>\n    <tr>\n      <th>829</th>\n      <td>1</td>\n      <td>1</td>\n      <td>1</td>\n      <td>62.0</td>\n      <td>0</td>\n      <td>0</td>\n      <td>80.0</td>\n      <td>NaN</td>\n      <td>1</td>\n    </tr>\n  </tbody>\n</table>\n</div>"
     },
     "execution_count": 74,
     "metadata": {},
     "output_type": "execute_result"
    }
   ],
   "source": [
    "embarked_na_index = train.index[train['Embarked'].isna()].tolist()\n",
    "train.loc[embarked_na_index]"
   ],
   "metadata": {
    "collapsed": false,
    "pycharm": {
     "name": "#%%\n"
    }
   }
  },
  {
   "cell_type": "code",
   "execution_count": 75,
   "outputs": [
    {
     "data": {
      "text/plain": "     Survived  Pclass  Sex   Age  SibSp  Parch  Fare Embarked  got_Cabin\n61          1       1    1  38.0      0      0  80.0        0          1\n829         1       1    1  62.0      0      0  80.0        0          1",
      "text/html": "<div>\n<style scoped>\n    .dataframe tbody tr th:only-of-type {\n        vertical-align: middle;\n    }\n\n    .dataframe tbody tr th {\n        vertical-align: top;\n    }\n\n    .dataframe thead th {\n        text-align: right;\n    }\n</style>\n<table border=\"1\" class=\"dataframe\">\n  <thead>\n    <tr style=\"text-align: right;\">\n      <th></th>\n      <th>Survived</th>\n      <th>Pclass</th>\n      <th>Sex</th>\n      <th>Age</th>\n      <th>SibSp</th>\n      <th>Parch</th>\n      <th>Fare</th>\n      <th>Embarked</th>\n      <th>got_Cabin</th>\n    </tr>\n  </thead>\n  <tbody>\n    <tr>\n      <th>61</th>\n      <td>1</td>\n      <td>1</td>\n      <td>1</td>\n      <td>38.0</td>\n      <td>0</td>\n      <td>0</td>\n      <td>80.0</td>\n      <td>0</td>\n      <td>1</td>\n    </tr>\n    <tr>\n      <th>829</th>\n      <td>1</td>\n      <td>1</td>\n      <td>1</td>\n      <td>62.0</td>\n      <td>0</td>\n      <td>0</td>\n      <td>80.0</td>\n      <td>0</td>\n      <td>1</td>\n    </tr>\n  </tbody>\n</table>\n</div>"
     },
     "execution_count": 75,
     "metadata": {},
     "output_type": "execute_result"
    }
   ],
   "source": [
    "train.at[embarked_na_index, \"Embarked\"] = train[\"Embarked\"].value_counts().idxmax()\n",
    "train.loc[embarked_na_index]"
   ],
   "metadata": {
    "collapsed": false,
    "pycharm": {
     "name": "#%%\n"
    }
   }
  },
  {
   "cell_type": "markdown",
   "source": [
    "#### Imputation variable age and fare.\n",
    "\n",
    "We could have put nan values as mean or median, but we can also create a model that predict the value of the missing\n",
    "value."
   ],
   "metadata": {
    "collapsed": false,
    "pycharm": {
     "name": "#%% md\n"
    }
   }
  },
  {
   "cell_type": "code",
   "execution_count": 88,
   "outputs": [],
   "source": [
    "X_train, Y_train = train.loc[:, train.columns != 'Survived'], np.array(train[\"Survived\"])\n",
    "X_test = test\n",
    "\n",
    "imputer = IterativeImputer(estimator=BayesianRidge(), n_nearest_features=None, imputation_order='ascending',\n",
    "                           random_state=RANDOM_STATE)\n",
    "imputer.fit(X_train)\n",
    "\n",
    "X_train = imputer.transform(X_train)\n",
    "X_test = imputer.transform(X_test)"
   ],
   "metadata": {
    "collapsed": false,
    "pycharm": {
     "name": "#%%\n"
    }
   }
  },
  {
   "cell_type": "markdown",
   "source": [
    "#### Scale [0, 1] Flare and Age variables"
   ],
   "metadata": {
    "collapsed": false,
    "pycharm": {
     "name": "#%% md\n"
    }
   }
  },
  {
   "cell_type": "code",
   "execution_count": 81,
   "outputs": [],
   "source": [
    "# Train\n",
    "X_train[:, 2] -= np.min(X_train[:, 2])\n",
    "X_train[:, 2] /= np.max(X_train[:, 2])\n",
    "\n",
    "X_train[:, 5] -= np.min(X_train[:, 5])\n",
    "X_train[:, 5] /= np.max(X_train[:, 5])\n",
    "\n",
    "# Test\n",
    "X_test[:, 2] -= np.min(X_test[:, 2])\n",
    "X_test[:, 2] /= np.max(X_test[:, 2])\n",
    "\n",
    "X_test[:, 5] -= np.min(X_test[:, 5])\n",
    "X_test[:, 5] /= np.max(X_test[:, 5])\n"
   ],
   "metadata": {
    "collapsed": false,
    "pycharm": {
     "name": "#%%\n"
    }
   }
  },
  {
   "cell_type": "markdown",
   "source": [
    "## Create classification model"
   ],
   "metadata": {
    "collapsed": false,
    "pycharm": {
     "name": "#%% md\n"
    }
   }
  },
  {
   "cell_type": "markdown",
   "source": [
    "#### Gradient boosting"
   ],
   "metadata": {
    "collapsed": false
   }
  },
  {
   "cell_type": "code",
   "execution_count": 82,
   "outputs": [
    {
     "name": "stdout",
     "output_type": "stream",
     "text": [
      "Best param : {'criterion': 'mse', 'learning_rate': 0.281665812704725, 'max_depth': 2, 'min_samples_leaf': 5, 'min_samples_split': 2, 'n_estimators': 363}\n",
      "Best score : 83.50%\n"
     ]
    }
   ],
   "source": [
    "model = GradientBoostingClassifier(random_state=RANDOM_STATE)\n",
    "param_distributions = {\"n_estimators\": stats.randint(50, 500),\n",
    "                       \"learning_rate\": stats.uniform(1e-4, 0.3),\n",
    "                       \"min_samples_split\": stats.randint(2, 10),\n",
    "                       \"min_samples_leaf\": stats.randint(1, 10),\n",
    "                       \"max_depth\": stats.randint(1, 15),\n",
    "                       \"criterion\": [\"friedman_mse\", \"mse\"]\n",
    "                       }\n",
    "search_gb = RandomizedSearchCV(model, param_distributions, cv=5, n_iter=50,\n",
    "                               random_state=RANDOM_STATE).fit(X_train, Y_train)\n",
    "\n",
    "print(\"Best param : {}\".format(search_gb.best_params_))\n",
    "print(\"Best score : {:.2f}%\".format(search_gb.best_score_ * 100))"
   ],
   "metadata": {
    "collapsed": false,
    "pycharm": {
     "name": "#%%\n"
    }
   }
  },
  {
   "cell_type": "markdown",
   "source": [
    "#### Random forest"
   ],
   "metadata": {
    "collapsed": false
   }
  },
  {
   "cell_type": "code",
   "execution_count": 83,
   "outputs": [
    {
     "name": "stdout",
     "output_type": "stream",
     "text": [
      "Best param : {'criterion': 'entropy', 'max_depth': 9, 'min_samples_leaf': 2, 'min_samples_split': 3, 'n_estimators': 876}\n",
      "Best score : 82.72%\n"
     ]
    }
   ],
   "source": [
    "model = RandomForestClassifier(random_state=RANDOM_STATE)\n",
    "param_distributions = {\"n_estimators\": stats.randint(100, 1000),\n",
    "                       \"min_samples_split\": stats.randint(2, 10),\n",
    "                       \"min_samples_leaf\": stats.randint(1, 10),\n",
    "                       \"max_depth\": stats.randint(1, 15),\n",
    "                       \"criterion\": [\"gini\", \"entropy\"]\n",
    "                       }\n",
    "search_rf = RandomizedSearchCV(model, param_distributions, cv=5, n_iter=50,\n",
    "                               random_state=RANDOM_STATE).fit(X_train, Y_train)\n",
    "\n",
    "print(\"Best param : {}\".format(search_rf.best_params_))\n",
    "print(\"Best score : {:.2f}%\".format(search_rf.best_score_ * 100))"
   ],
   "metadata": {
    "collapsed": false,
    "pycharm": {
     "name": "#%%\n"
    }
   }
  },
  {
   "cell_type": "markdown",
   "source": [
    "#### Logistic Regression"
   ],
   "metadata": {
    "collapsed": false,
    "pycharm": {
     "name": "#%% md\n"
    }
   }
  },
  {
   "cell_type": "code",
   "execution_count": 84,
   "outputs": [
    {
     "name": "stdout",
     "output_type": "stream",
     "text": [
      "Best param : {'C': 37.464011884736244, 'solver': 'newton-cg'}\n",
      "Best score : 79.24%\n"
     ]
    }
   ],
   "source": [
    "model = LogisticRegression(random_state=RANDOM_STATE, max_iter=5000)\n",
    "param_distributions = {\"solver\": [\"newton-cg\", \"lbfgs\", \"sag\", \"saga\"],\n",
    "                       \"C\": stats.uniform(0.01, 100),\n",
    "                       }\n",
    "search_lr = RandomizedSearchCV(model, param_distributions, cv=5, n_iter=250,\n",
    "                               random_state=RANDOM_STATE).fit(X_train, Y_train)\n",
    "\n",
    "print(\"Best param : {}\".format(search_lr.best_params_))\n",
    "print(\"Best score : {:.2f}%\".format(search_lr.best_score_ * 100))"
   ],
   "metadata": {
    "collapsed": false,
    "pycharm": {
     "name": "#%%\n"
    }
   }
  },
  {
   "cell_type": "markdown",
   "source": [
    "#### SVM"
   ],
   "metadata": {
    "collapsed": false
   }
  },
  {
   "cell_type": "code",
   "execution_count": 85,
   "outputs": [
    {
     "name": "stdout",
     "output_type": "stream",
     "text": [
      "Best param : {'C': 2.190716207377137, 'kernel': 'rbf'}\n",
      "Best score : 82.16%\n"
     ]
    }
   ],
   "source": [
    "model = SVC(random_state=RANDOM_STATE)\n",
    "param_distributions = {\"kernel\": [\"linear\", \"poly\", \"rbf\", \"sigmoid\"],\n",
    "                       \"C\": stats.uniform(0.1, 10),\n",
    "                       }\n",
    "search_svm = RandomizedSearchCV(model, param_distributions, cv=5, n_iter=250,\n",
    "                               random_state=RANDOM_STATE).fit(X_train, Y_train)\n",
    "\n",
    "print(\"Best param : {}\".format(search_svm.best_params_))\n",
    "print(\"Best score : {:.2f}%\".format(search_svm.best_score_ * 100))"
   ],
   "metadata": {
    "collapsed": false,
    "pycharm": {
     "name": "#%%\n"
    }
   }
  },
  {
   "cell_type": "markdown",
   "source": [
    "## Predict test\n",
    "\n",
    "Use Gradient boosting model because better model!"
   ],
   "metadata": {
    "collapsed": false,
    "pycharm": {
     "name": "#%% md\n"
    }
   }
  },
  {
   "cell_type": "code",
   "execution_count": 87,
   "outputs": [],
   "source": [
    "Y_test = search_gb.predict(X_test)\n",
    "submission = pd.DataFrame({'PassengerId': test_PassengerId, 'Survived': Y_test})\n",
    "\n",
    "submission.to_csv(\"./data/submission.csv\", index=False)"
   ],
   "metadata": {
    "collapsed": false,
    "pycharm": {
     "name": "#%%\n"
    }
   }
  }
 ],
 "metadata": {
  "kernelspec": {
   "name": "python3",
   "language": "python",
   "display_name": "Python 3"
  },
  "language_info": {
   "codemirror_mode": {
    "name": "ipython",
    "version": 2
   },
   "file_extension": ".py",
   "mimetype": "text/x-python",
   "name": "python",
   "nbconvert_exporter": "python",
   "pygments_lexer": "ipython2",
   "version": "2.7.6"
  }
 },
 "nbformat": 4,
 "nbformat_minor": 0
}